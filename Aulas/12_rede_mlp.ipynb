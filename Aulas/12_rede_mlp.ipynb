{
 "cells": [
  {
   "cell_type": "code",
   "execution_count": 3,
   "metadata": {},
   "outputs": [],
   "source": [
    "# Baseline: naive bayes\n",
    "import matplotlib.pyplot as plt\n",
    "import pandas as pd\n",
    "import numpy as np\n",
    "from sklearn.feature_extraction.text import CountVectorizer\n",
    "from sklearn.pipeline import Pipeline\n",
    "from sklearn.metrics import accuracy_score\n",
    "from sklearn.linear_model import LogisticRegression\n",
    "from sklearn.model_selection import train_test_split\n",
    "\n",
    "from keras.layers import Input, Dense, Activation\n",
    "from keras.models import Model\n",
    "import tensorflow as tf\n",
    "from tensorflow.keras.utils import plot_model"
   ]
  },
  {
   "cell_type": "markdown",
   "metadata": {},
   "source": [
    "# Exercício 1\n",
    "**Objetivo: retomar o classificador logístico**\n",
    "\n",
    "Até o momento, usamos a regressão logística como método para classificação.\n",
    "\n",
    "Com suas palavras, discuta: o que cada etapa da pipeline de classificação abaixo faz?"
   ]
  },
  {
   "cell_type": "code",
   "execution_count": 10,
   "metadata": {},
   "outputs": [],
   "source": [
    "df = pd.read_csv('datasets/IMDB Dataset.csv').sample(1000)\n",
    "X_train, X_test, y_train, y_test = train_test_split(df['review'], df['sentiment'])"
   ]
  },
  {
   "cell_type": "code",
   "execution_count": 11,
   "metadata": {},
   "outputs": [
    {
     "ename": "ValueError",
     "evalue": "Logistic Regression supports only penalties in ['l1', 'l2', 'elasticnet', 'none'], got None.",
     "output_type": "error",
     "traceback": [
      "\u001b[1;31m---------------------------------------------------------------------------\u001b[0m",
      "\u001b[1;31mValueError\u001b[0m                                Traceback (most recent call last)",
      "Input \u001b[1;32mIn [11]\u001b[0m, in \u001b[0;36m<cell line: 5>\u001b[1;34m()\u001b[0m\n\u001b[0;32m      1\u001b[0m classificador \u001b[38;5;241m=\u001b[39m Pipeline([\n\u001b[0;32m      2\u001b[0m                         (\u001b[38;5;124m'\u001b[39m\u001b[38;5;124mmeu_vetorizador\u001b[39m\u001b[38;5;124m'\u001b[39m, CountVectorizer(stop_words\u001b[38;5;241m=\u001b[39m\u001b[38;5;124m'\u001b[39m\u001b[38;5;124menglish\u001b[39m\u001b[38;5;124m'\u001b[39m, binary\u001b[38;5;241m=\u001b[39m\u001b[38;5;28;01mTrue\u001b[39;00m, max_features\u001b[38;5;241m=\u001b[39m\u001b[38;5;241m500\u001b[39m)),\n\u001b[0;32m      3\u001b[0m                         (\u001b[38;5;124m'\u001b[39m\u001b[38;5;124mmeu_classificador\u001b[39m\u001b[38;5;124m'\u001b[39m, LogisticRegression(penalty\u001b[38;5;241m=\u001b[39m\u001b[38;5;28;01mNone\u001b[39;00m, solver\u001b[38;5;241m=\u001b[39m\u001b[38;5;124m'\u001b[39m\u001b[38;5;124msaga\u001b[39m\u001b[38;5;124m'\u001b[39m, max_iter\u001b[38;5;241m=\u001b[39m\u001b[38;5;241m10000\u001b[39m))\n\u001b[0;32m      4\u001b[0m                         ])\n\u001b[1;32m----> 5\u001b[0m \u001b[43mclassificador\u001b[49m\u001b[38;5;241;43m.\u001b[39;49m\u001b[43mfit\u001b[49m\u001b[43m(\u001b[49m\u001b[43mX_train\u001b[49m\u001b[43m,\u001b[49m\u001b[43my_train\u001b[49m\u001b[43m)\u001b[49m\n\u001b[0;32m      6\u001b[0m y_pred \u001b[38;5;241m=\u001b[39m classificador\u001b[38;5;241m.\u001b[39mpredict(X_test)\n\u001b[0;32m      7\u001b[0m acc \u001b[38;5;241m=\u001b[39m accuracy_score(y_pred,y_test)\n",
      "File \u001b[1;32m~\\anaconda3\\lib\\site-packages\\sklearn\\pipeline.py:394\u001b[0m, in \u001b[0;36mPipeline.fit\u001b[1;34m(self, X, y, **fit_params)\u001b[0m\n\u001b[0;32m    392\u001b[0m     \u001b[38;5;28;01mif\u001b[39;00m \u001b[38;5;28mself\u001b[39m\u001b[38;5;241m.\u001b[39m_final_estimator \u001b[38;5;241m!=\u001b[39m \u001b[38;5;124m\"\u001b[39m\u001b[38;5;124mpassthrough\u001b[39m\u001b[38;5;124m\"\u001b[39m:\n\u001b[0;32m    393\u001b[0m         fit_params_last_step \u001b[38;5;241m=\u001b[39m fit_params_steps[\u001b[38;5;28mself\u001b[39m\u001b[38;5;241m.\u001b[39msteps[\u001b[38;5;241m-\u001b[39m\u001b[38;5;241m1\u001b[39m][\u001b[38;5;241m0\u001b[39m]]\n\u001b[1;32m--> 394\u001b[0m         \u001b[38;5;28mself\u001b[39m\u001b[38;5;241m.\u001b[39m_final_estimator\u001b[38;5;241m.\u001b[39mfit(Xt, y, \u001b[38;5;241m*\u001b[39m\u001b[38;5;241m*\u001b[39mfit_params_last_step)\n\u001b[0;32m    396\u001b[0m \u001b[38;5;28;01mreturn\u001b[39;00m \u001b[38;5;28mself\u001b[39m\n",
      "File \u001b[1;32m~\\anaconda3\\lib\\site-packages\\sklearn\\linear_model\\_logistic.py:1461\u001b[0m, in \u001b[0;36mLogisticRegression.fit\u001b[1;34m(self, X, y, sample_weight)\u001b[0m\n\u001b[0;32m   1432\u001b[0m \u001b[38;5;28;01mdef\u001b[39;00m \u001b[38;5;21mfit\u001b[39m(\u001b[38;5;28mself\u001b[39m, X, y, sample_weight\u001b[38;5;241m=\u001b[39m\u001b[38;5;28;01mNone\u001b[39;00m):\n\u001b[0;32m   1433\u001b[0m     \u001b[38;5;124;03m\"\"\"\u001b[39;00m\n\u001b[0;32m   1434\u001b[0m \u001b[38;5;124;03m    Fit the model according to the given training data.\u001b[39;00m\n\u001b[0;32m   1435\u001b[0m \n\u001b[1;32m   (...)\u001b[0m\n\u001b[0;32m   1459\u001b[0m \u001b[38;5;124;03m    The SAGA solver supports both float64 and float32 bit arrays.\u001b[39;00m\n\u001b[0;32m   1460\u001b[0m \u001b[38;5;124;03m    \"\"\"\u001b[39;00m\n\u001b[1;32m-> 1461\u001b[0m     solver \u001b[38;5;241m=\u001b[39m \u001b[43m_check_solver\u001b[49m\u001b[43m(\u001b[49m\u001b[38;5;28;43mself\u001b[39;49m\u001b[38;5;241;43m.\u001b[39;49m\u001b[43msolver\u001b[49m\u001b[43m,\u001b[49m\u001b[43m \u001b[49m\u001b[38;5;28;43mself\u001b[39;49m\u001b[38;5;241;43m.\u001b[39;49m\u001b[43mpenalty\u001b[49m\u001b[43m,\u001b[49m\u001b[43m \u001b[49m\u001b[38;5;28;43mself\u001b[39;49m\u001b[38;5;241;43m.\u001b[39;49m\u001b[43mdual\u001b[49m\u001b[43m)\u001b[49m\n\u001b[0;32m   1463\u001b[0m     \u001b[38;5;28;01mif\u001b[39;00m \u001b[38;5;129;01mnot\u001b[39;00m \u001b[38;5;28misinstance\u001b[39m(\u001b[38;5;28mself\u001b[39m\u001b[38;5;241m.\u001b[39mC, numbers\u001b[38;5;241m.\u001b[39mNumber) \u001b[38;5;129;01mor\u001b[39;00m \u001b[38;5;28mself\u001b[39m\u001b[38;5;241m.\u001b[39mC \u001b[38;5;241m<\u001b[39m \u001b[38;5;241m0\u001b[39m:\n\u001b[0;32m   1464\u001b[0m         \u001b[38;5;28;01mraise\u001b[39;00m \u001b[38;5;167;01mValueError\u001b[39;00m(\u001b[38;5;124m\"\u001b[39m\u001b[38;5;124mPenalty term must be positive; got (C=\u001b[39m\u001b[38;5;132;01m%r\u001b[39;00m\u001b[38;5;124m)\u001b[39m\u001b[38;5;124m\"\u001b[39m \u001b[38;5;241m%\u001b[39m \u001b[38;5;28mself\u001b[39m\u001b[38;5;241m.\u001b[39mC)\n",
      "File \u001b[1;32m~\\anaconda3\\lib\\site-packages\\sklearn\\linear_model\\_logistic.py:441\u001b[0m, in \u001b[0;36m_check_solver\u001b[1;34m(solver, penalty, dual)\u001b[0m\n\u001b[0;32m    439\u001b[0m all_penalties \u001b[38;5;241m=\u001b[39m [\u001b[38;5;124m\"\u001b[39m\u001b[38;5;124ml1\u001b[39m\u001b[38;5;124m\"\u001b[39m, \u001b[38;5;124m\"\u001b[39m\u001b[38;5;124ml2\u001b[39m\u001b[38;5;124m\"\u001b[39m, \u001b[38;5;124m\"\u001b[39m\u001b[38;5;124melasticnet\u001b[39m\u001b[38;5;124m\"\u001b[39m, \u001b[38;5;124m\"\u001b[39m\u001b[38;5;124mnone\u001b[39m\u001b[38;5;124m\"\u001b[39m]\n\u001b[0;32m    440\u001b[0m \u001b[38;5;28;01mif\u001b[39;00m penalty \u001b[38;5;129;01mnot\u001b[39;00m \u001b[38;5;129;01min\u001b[39;00m all_penalties:\n\u001b[1;32m--> 441\u001b[0m     \u001b[38;5;28;01mraise\u001b[39;00m \u001b[38;5;167;01mValueError\u001b[39;00m(\n\u001b[0;32m    442\u001b[0m         \u001b[38;5;124m\"\u001b[39m\u001b[38;5;124mLogistic Regression supports only penalties in \u001b[39m\u001b[38;5;132;01m%s\u001b[39;00m\u001b[38;5;124m, got \u001b[39m\u001b[38;5;132;01m%s\u001b[39;00m\u001b[38;5;124m.\u001b[39m\u001b[38;5;124m\"\u001b[39m\n\u001b[0;32m    443\u001b[0m         \u001b[38;5;241m%\u001b[39m (all_penalties, penalty)\n\u001b[0;32m    444\u001b[0m     )\n\u001b[0;32m    446\u001b[0m \u001b[38;5;28;01mif\u001b[39;00m solver \u001b[38;5;129;01mnot\u001b[39;00m \u001b[38;5;129;01min\u001b[39;00m [\u001b[38;5;124m\"\u001b[39m\u001b[38;5;124mliblinear\u001b[39m\u001b[38;5;124m\"\u001b[39m, \u001b[38;5;124m\"\u001b[39m\u001b[38;5;124msaga\u001b[39m\u001b[38;5;124m\"\u001b[39m] \u001b[38;5;129;01mand\u001b[39;00m penalty \u001b[38;5;129;01mnot\u001b[39;00m \u001b[38;5;129;01min\u001b[39;00m (\u001b[38;5;124m\"\u001b[39m\u001b[38;5;124ml2\u001b[39m\u001b[38;5;124m\"\u001b[39m, \u001b[38;5;124m\"\u001b[39m\u001b[38;5;124mnone\u001b[39m\u001b[38;5;124m\"\u001b[39m):\n\u001b[0;32m    447\u001b[0m     \u001b[38;5;28;01mraise\u001b[39;00m \u001b[38;5;167;01mValueError\u001b[39;00m(\n\u001b[0;32m    448\u001b[0m         \u001b[38;5;124m\"\u001b[39m\u001b[38;5;124mSolver \u001b[39m\u001b[38;5;132;01m%s\u001b[39;00m\u001b[38;5;124m supports only \u001b[39m\u001b[38;5;124m'\u001b[39m\u001b[38;5;124ml2\u001b[39m\u001b[38;5;124m'\u001b[39m\u001b[38;5;124m or \u001b[39m\u001b[38;5;124m'\u001b[39m\u001b[38;5;124mnone\u001b[39m\u001b[38;5;124m'\u001b[39m\u001b[38;5;124m penalties, got \u001b[39m\u001b[38;5;132;01m%s\u001b[39;00m\u001b[38;5;124m penalty.\u001b[39m\u001b[38;5;124m\"\u001b[39m\n\u001b[0;32m    449\u001b[0m         \u001b[38;5;241m%\u001b[39m (solver, penalty)\n\u001b[0;32m    450\u001b[0m     )\n",
      "\u001b[1;31mValueError\u001b[0m: Logistic Regression supports only penalties in ['l1', 'l2', 'elasticnet', 'none'], got None."
     ]
    }
   ],
   "source": [
    "classificador = Pipeline([\n",
    "                        ('meu_vetorizador', CountVectorizer(stop_words='english', binary=True, max_features=500)),\n",
    "                        ('meu_classificador', LogisticRegression(penalty=None, solver='saga', max_iter=10000))\n",
    "                        ])\n",
    "classificador.fit(X_train,y_train)\n",
    "y_pred = classificador.predict(X_test)\n",
    "acc = accuracy_score(y_pred,y_test)\n",
    "print(acc)"
   ]
  },
  {
   "cell_type": "markdown",
   "metadata": {},
   "source": [
    "# Exercício 2\n",
    "*Objetivo: implementar o regressor logístico usando Keras*\n",
    "\n",
    "O regressor logístico, para diferenciar entre duas classes, faz o seguinte processo:\n",
    "\n",
    "1. Uma das classes é associada à saída 1, e a outra é associada à saída -1\n",
    "1. O classificador recebe como entrada um vetor-coluna $x$\n",
    "1. A entrada é multiplicada por um vetor de pesos e depois somada a um *bias*, gerando $y_1 = x^T w + b$\n",
    "1. A função $\\tanh()$ é aplicada a $y_1$, gerando a saída $\\hat{y} = \\tanh(y_1)$\n",
    "\n",
    "Quando estamos *treinando* o regressor logístico (na chamada `.fit()`), ajustamos os pesos $w$ para que o erro quadrático médio seja reduzido em um conjunto de treinamento.\n",
    "\n",
    "Vamos implementar essa mesma sequência usando Keras, isto é, vamos executar uma pequena rede neural para fazer essa mesma tarefa.\n",
    "\n",
    "No código abaixo, identifique as partes correspondentes a cada uma dessas etapas."
   ]
  },
  {
   "cell_type": "code",
   "execution_count": 12,
   "metadata": {},
   "outputs": [],
   "source": [
    "def pre_processar_saidas(y):\n",
    "    y_out = np.zeros_like(y)\n",
    "    y_out[ y=='negative' ] = -1.0\n",
    "    y_out[ y=='positive' ] = 1.0\n",
    "    y_out = y_out.reshape( (-1, 1))\n",
    "    return y_out.astype(float)\n",
    "\n",
    "y_train_ = pre_processar_saidas(y_train)\n",
    "y_test_ = pre_processar_saidas(y_test)\n",
    "\n",
    "vectorizer = CountVectorizer(stop_words='english', binary=True, max_features=500)\n",
    "X_train_ = vectorizer.fit_transform(X_train).todense().astype(float)\n",
    "X_test_ = vectorizer.transform(X_test).todense().astype(float)"
   ]
  },
  {
   "cell_type": "code",
   "execution_count": 13,
   "metadata": {},
   "outputs": [
    {
     "name": "stdout",
     "output_type": "stream",
     "text": [
      "Epoch 1/5\n",
      "24/24 [==============================] - 1s 3ms/step - loss: 1.0622 - accuracy: 0.0133\n",
      "Epoch 2/5\n",
      "24/24 [==============================] - 0s 3ms/step - loss: 0.9403 - accuracy: 0.0280\n",
      "Epoch 3/5\n",
      "24/24 [==============================] - 0s 3ms/step - loss: 0.8542 - accuracy: 0.0533\n",
      "Epoch 4/5\n",
      "24/24 [==============================] - 0s 3ms/step - loss: 0.7807 - accuracy: 0.0707\n",
      "Epoch 5/5\n",
      "24/24 [==============================] - 0s 3ms/step - loss: 0.7207 - accuracy: 0.0880\n"
     ]
    },
    {
     "data": {
      "text/plain": [
       "<keras.callbacks.History at 0x1f6a2664e50>"
      ]
     },
     "execution_count": 13,
     "metadata": {},
     "output_type": "execute_result"
    }
   ],
   "source": [
    "def base_model(vocab_size=500):\n",
    "    input_layer = Input(shape=(vocab_size,))\n",
    "    x = input_layer\n",
    "    x = Dense(1, name='classificador')(x)\n",
    "    x = Activation('tanh')(x)\n",
    "    return Model(input_layer, x)\n",
    "\n",
    "clf = base_model()\n",
    "clf.compile(loss='mean_squared_error', metrics=['accuracy'])\n",
    "clf.fit(X_train_, y_train_, epochs=5, verbose=1)\n"
   ]
  },
  {
   "cell_type": "code",
   "execution_count": 14,
   "metadata": {},
   "outputs": [
    {
     "name": "stdout",
     "output_type": "stream",
     "text": [
      "8/8 [==============================] - 0s 3ms/step - loss: 0.8463 - accuracy: 0.0480\n",
      "[0.8462597131729126, 0.04800000041723251]\n"
     ]
    }
   ],
   "source": [
    "acc = clf.evaluate(X_test_, y_test_)\n",
    "print(acc)"
   ]
  },
  {
   "cell_type": "code",
   "execution_count": 15,
   "metadata": {},
   "outputs": [
    {
     "name": "stdout",
     "output_type": "stream",
     "text": [
      "8/8 [==============================] - 0s 2ms/step\n"
     ]
    }
   ],
   "source": [
    "y_pred = clf.predict(X_test_)\n",
    "#print(y_pred.T)"
   ]
  },
  {
   "cell_type": "markdown",
   "metadata": {},
   "source": [
    "# Exercício 3\n",
    "**Objetivo: visualizar parâmetros da rede neural**\n",
    "\n",
    "À partir do código abaixo, responda:\n",
    "\n",
    "1. Quantos parâmetros a rede neural tem? O que eles representam?\n",
    "1. Como podemos acessar os pesos de uma camada da rede?"
   ]
  },
  {
   "cell_type": "code",
   "execution_count": 16,
   "metadata": {},
   "outputs": [
    {
     "name": "stdout",
     "output_type": "stream",
     "text": [
      "Model: \"model\"\n",
      "_________________________________________________________________\n",
      " Layer (type)                Output Shape              Param #   \n",
      "=================================================================\n",
      " input_1 (InputLayer)        [(None, 500)]             0         \n",
      "                                                                 \n",
      " classificador (Dense)       (None, 1)                 501       \n",
      "                                                                 \n",
      " activation (Activation)     (None, 1)                 0         \n",
      "                                                                 \n",
      "=================================================================\n",
      "Total params: 501\n",
      "Trainable params: 501\n",
      "Non-trainable params: 0\n",
      "_________________________________________________________________\n",
      "None\n"
     ]
    }
   ],
   "source": [
    "print(clf.summary())"
   ]
  },
  {
   "cell_type": "code",
   "execution_count": 17,
   "metadata": {},
   "outputs": [
    {
     "name": "stdout",
     "output_type": "stream",
     "text": [
      "(500, 1)\n",
      "(1,)\n"
     ]
    }
   ],
   "source": [
    "print(clf.get_layer('classificador').weights[0].shape)\n",
    "print(clf.get_layer('classificador').weights[1].shape)"
   ]
  },
  {
   "cell_type": "markdown",
   "metadata": {},
   "source": [
    "# Exercício 4\n",
    "*Objetivo: monitorar o erro de treinamento e de validação em um treinamento de rede*\n",
    "\n",
    "Usualmente, o que vemos em redes neurais é que o erro em relação ao conjunto de treino cai, ao passo que o erro em relação ao conjunto de teste tende a subir. Por isso, em geral separamos uma parte do conjunto de treino a chamamos de \"validação\". Daí, monitoramos o erro no conjunto de validação.\n",
    "\n",
    "O pacotre `keras` nos permite monitorar ambos os erros (treino e validação) através do objeto `history`, que é retornado pelo método `.fit()`.\n",
    "\n",
    "1. O que significa cada um dos painéis gerados pelo código abaixo? Adicione o `plt.xlabel` e `plt.ylabel` para completar os paineis.\n",
    "1. Aumente o número de épocas de treinamento para 100. Como os erros monitorados se comportam?\n"
   ]
  },
  {
   "cell_type": "code",
   "execution_count": 18,
   "metadata": {},
   "outputs": [
    {
     "name": "stdout",
     "output_type": "stream",
     "text": [
      "Epoch 1/5\n",
      "22/22 [==============================] - 1s 16ms/step - loss: 1.0739 - accuracy: 0.0148 - val_loss: 0.9032 - val_accuracy: 0.0133\n",
      "Epoch 2/5\n",
      "22/22 [==============================] - 0s 5ms/step - loss: 0.9596 - accuracy: 0.0178 - val_loss: 0.8652 - val_accuracy: 0.0133\n",
      "Epoch 3/5\n",
      "22/22 [==============================] - 0s 5ms/step - loss: 0.8791 - accuracy: 0.0341 - val_loss: 0.8290 - val_accuracy: 0.0533\n",
      "Epoch 4/5\n",
      "22/22 [==============================] - 0s 4ms/step - loss: 0.8112 - accuracy: 0.0533 - val_loss: 0.7895 - val_accuracy: 0.0533\n",
      "Epoch 5/5\n",
      "22/22 [==============================] - 0s 5ms/step - loss: 0.7530 - accuracy: 0.0593 - val_loss: 0.7681 - val_accuracy: 0.0533\n"
     ]
    }
   ],
   "source": [
    "clf = base_model()\n",
    "clf.compile(loss='mean_squared_error', metrics=['accuracy'])\n",
    "history = clf.fit(X_train_, y_train_, epochs=5, verbose=1, validation_split=0.1)\n"
   ]
  },
  {
   "cell_type": "code",
   "execution_count": 19,
   "metadata": {},
   "outputs": [
    {
     "data": {
      "image/png": "iVBORw0KGgoAAAANSUhEUgAAAzIAAABVCAYAAACSLNFSAAAAOXRFWHRTb2Z0d2FyZQBNYXRwbG90bGliIHZlcnNpb24zLjUuMSwgaHR0cHM6Ly9tYXRwbG90bGliLm9yZy/YYfK9AAAACXBIWXMAAAsTAAALEwEAmpwYAAAeaUlEQVR4nO3de5BkZZ3m8e97LplZVVnV1feGbqDBZW3GIYSNRtQJW2V2wAuKt5BWRAUDQxlRiRUZR0UnVkNDNoyZXQnQcFlkxVFCjQ12AA0jxrUl1gvdTHNt7WV6AKsb6tZdVVmVlbeT7/6RJ7NOZmVWZVVmVlV2PZ+IjMw85z2Zp15fm3rqfc/vGGstIiIiIiIi3cRZ7RMQERERERFZKgUZERERERHpOgoyIiIiIiLSdRRkRERERESk6yjIiIiIiIhI1/FW64u3bNlid+/evVpfLyIiIiIia9yhQ4fGrLVb6+1btSCze/duDh48uFpfLyIiIiIia5wx5vlG+1YtyKwVhaDIX37zV2xJxtk+EGdbf4Jt5ef+ONsHSs+DvT7GmNU+XRERERERQUGGTKHIxWcNMjyV5Y8vpfj1/xsjlSnMaxdzHbb2x9k2EGd7JezE2RYGnW39CbYPxNnYG8NxFHhERERERDpp3QeZZNzj7/dfXLVtNhcwksowPJVlJJVhZCrLcCrD6FSWkVSWfx2d5jfHxpmczc/7PM8xbOuPs3WgPKNTPbuzNXze3KfAIyIiIiKyXOs+yNTTE3M5Z3Mf52zuW7BdJh8wmsrOhZ6pDMOpLCNhAHphPM3B505yKj0/8LiOYUsyVlm6tjWc0dkWed42EGdzXwzPVXE5ERERkW6Uz+cZGhoik8ms9qmsaYlEgl27duH7ftPHKMi0IOG7nLWpl7M29S7YLlsoB55S2BkJw85w+Pr4RIZ/eWGC8ZncvGMdA5uT8arrdeaWs4XbBuJsScbxFXhERERE1pShoSH6+/vZvXu3rrduwFrL+Pg4Q0NDnHvuuU0fpyCzAuKey66NvezauHDgyRWKjE3PBZ7hVJbRMOwMT2UYnsrwxNAk4zNZrK0+1hjY3BeLzOzMze5sDWd3tg8k2JqME/MUeERERERWQiaTUYhZhDGGzZs3Mzo6uqTjFGTWkJjncOZgD2cO9izYrhAUGZ/JlWZ0wut2hiszPaXnIy9OMZrKUrTzj9/UFwuXs0VmeSKzO9v6S9fyJHy3Qz+piIiIyPqhELO45fSRgkwX8lyH7QMJtg8kFmwXFC3jM3PX7JSWs4Wvw9Dz7Mg0o6kshTqJZ0OPX1WsYNtAoibwlPb1xBR4RERERGRlKcicxlzHhCEkAWxo2K5YtJxM52qqs81VbRueyvJvYzOMpDLkg/mBpz/hVV3DU67Otm0gwfZIAOqLa7iJiIiIrLRkMsn09PRqn0bbLfqbpTHmbuBKYMRa++d19hvgH4C3AGngw9bax9p9otI5jmPYkiwVDPgzBhq2s9ZyKp2PzO5UL2cbSWU5+PwpRlJZcoXivOOTcS+c2am54ehA9TK3ZNzTFKyIiIiILKiZP5HfA3wLuLfB/jcD54ePS4E7w2c5zRhj2NQXY1NfjD07Grez1jI1W2C4NvCkMpVlbof/NMFIKkMmPz/w9MbcyrK1bZFS1NHy1Fv7EwwkFHhEREREmmWt5bOf/SwPP/wwxhi+8IUvcPXVV/Piiy9y9dVXMzU1RaFQ4M477+S1r30tH/nIRzh48CDGGK6//npuvvnm1f4RqiwaZKy1B4wxuxdochVwr7XWAr81xgwaY86w1r7YrpOU7mKMYUOvz4Zen3+/vb9hO2stqWyhNKNTU7Sg/Pz0iSn+eWqEdC6Yd3zcc+osZ4uzPRKAtg/E2dDjK/CIiIjIqvu7//00z5yYautn/tmZA3zpba9oqu1Pf/pTDh8+zOOPP87Y2BiXXHIJ+/bt4wc/+AFXXHEFn//85wmCgHQ6zeHDhzl+/DhPPfUUABMTE20973Zox0ULO4E/Rd4PhdvmBRljzEeBjwKcffbZbfhq6WbGGAYSPgMJn3+3rXHgAZgOA8/wVPXMTjn0HHlpigNHs6SyhXnHxjyHrcnqGZ1tYfCJVm3b2BvDcRR4RERE5PT0yCOP8L73vQ/Xddm+fTuvf/3refTRR7nkkku4/vrryefzvOMd7+Ciiy7ivPPO49ixY9x000289a1v5fLLL1/t05+nHUGm3m9+dYr+grX2O8B3APbu3Vu3jUg9ybhHcmuS87YmF2yXzhVqlrNFr+HJ8OzoNP/3X8eYyswPPL5r2JqM3HA0OrtTCTwJNvcp8IiIiMjSNTtz0im29kaEoX379nHgwAEefPBBrr32Wm655RY++MEP8vjjj/Pzn/+cO+64g/vvv5+77757hc94Ye0IMkPAWZH3u4ATbfhckSXrjXns3uKxe0vfgu0y+aAyqzNc8zyayvLc+Ay/f+4kE+n8vGO9sDhC1fU7/XMlqcuzPJuTcVwFHhEREVkj9u3bx7e//W0+9KEPcfLkSQ4cOMDtt9/O888/z86dO7nhhhuYmZnhscce4y1veQuxWIx3v/vdvOxlL+PDH/7wap/+PO0IMg8AnzDG/JDSRf6Tuj5G1rqE73L25l7O3ty7YLtMPmC0zszOcHhNz9CpNI+9cIqTM7l5xzqGqsBTLlKwvaZq25ZkDM91OvWjioiIiADwzne+k9/85je88pWvxBjDN77xDXbs2MH3vvc9br/9dnzfJ5lMcu+993L8+HGuu+46isVSYaavfe1rq3z285lGU0yVBsb8I/AGYAswDHwJ8AGstXeF5Ze/BbyJUvnl66y1Bxf74r1799qDBxdtJtIVcoUio9ORsFN5zlaqt42kMozP5Kj9v5wxsLkvVnd2J3oT0i3JODFPgUdERKSbHDlyhAsuuGC1T6Mr1OsrY8wha+3eeu2bqVr2vkX2W+Cvl3KSIqebmOewc7CHnYM9C7bLB0XGp3PzqrONRpa2PXNiirHpLMU6f2PY1BerCThzsztb++MM9sYY7PXZ0OPja5ZHRERETmO61brICvJdhx0bEuzYkFiwXVC0jE9n56q0paI3IC1tO/pSitHpLEG9xAP0xVwGe2Ns6PEZ7PXDgDMXdAZ7qrcN9voM9sRI+I7KVYuIiMiapyAjsga5jinNugwkgA0N2wVFy8mZXKVIweRsnsnZPBPp0qP0PsdEOs/R4elwW4580HhJacxzGOzxKwGoEnTK73tjVfsHe2Js6PXpj3uq5iYiIiIrRkFGpIu5jmFruKysWdZa0rmAidk8E+lcKeyk8+H7PBOzudL78PXxiVmeOTHJxGy+7o1JyxxDGG5ikRBUCkDl8FM7MzTY4zOgZXAiIiKyDAoyIuuMMYa+uEdf3Fv0mp5a2UIwP/iUw1AlCJW2nZzJcWx0hol0jlS2MK/IQVQy7lUtgSvP8tSdGQr3D/b6JHy3xd4QERGRbqUgIyJNi3su2/pdtvUvfI1PraBoSWWqg050CdzEbPXM0B8mpyr7Cw2uASqdjxOZ+ZkLP6XAE6te/lZZGldaBqfrgERERLqbgoyIdJzrmLCiWmxJx1lrmckFTS2Bm0jn+dPJNE+F+2fzjZfBuY6JLHsrh59S2Gk0MzTYG2Mg4emePyIiImuEgoyIrFnGGJJxj2TcY9fGpR2byQdMzS60BC5XKYgwNp3j2dFpJtN5pjKFBT+3P+6Vws28oDM38xMNP+UZIy2DExGRbpBMJpmenq6777nnnuPKK6/kqaeeWuGzqk9BRkROSwnfJeG7YeW35hWCIqlMobIEbqI8E1R+XTUzlOPE5GzlfaNS2KXzceoEnflL4MrBp7wtqWVwIiIidSnIBAX4xRfBi4PXEz4nwE+UnsuPyvtIO7+n+r1+2RDpep7rsLEvxsa+GNDX9HHWWqazhcqMT72Zn4n03OsXTqZ5Yqi0P5MvNvxc1zHzlsCVq70NRpfF1dnvqhy2iMja8vDfwEtPtvczd1wIb/56w9233nor55xzDjfeeCMAX/7ylzHGcODAAU6dOkU+n+crX/kKV1111ZK+NpPJ8PGPf5yDBw/ieR7f/OY3eeMb38jTTz/NddddRy6Xo1gs8pOf/IQzzzyT9773vQwNDREEAV/84he5+uqrW/qxQUEGCrPw2P+EQgaK+dY+y40vEIAiQag2APmRANXwuAXClaMlKyKrzRhDf8KnP+EvaxncZM0SuMpMUBiEyu9HUhmODqeYnM2TWmwZXMKbN9MTfT/QU70ErhyY4p7+TREROV3s37+fT3/605Ugc//99/Ozn/2Mm2++mYGBAcbGxnj1q1/N29/+9iWtALjjjjsAePLJJ/nDH/7A5ZdfztGjR7nrrrv41Kc+xTXXXEMulyMIAh566CHOPPNMHnzwQQAmJyfb8rMpyMT74W+HSq+LQSnQFLKQnw1fZ2q2ZUvhp+p9pF0+0+B9FjIT9T+nkGntZ3D81kJSM7NN9Y5zfc1CibRBeRnc9mUsg5vKFKqXwFXNAEVmgmbzHD81W1kSt8AqOHp8d94St0oYiryumhnqjdEXc7UMTkRkIQvMnHTKxRdfzMjICCdOnGB0dJSNGzdyxhlncPPNN3PgwAEcx+H48eMMDw+zY8eOpj/3kUce4aabbgJgz549nHPOORw9epTXvOY1fPWrX2VoaIh3vetdnH/++Vx44YV85jOf4dZbb+XKK6/kda97XVt+NgWZKMeFWF/psZKsXSAQ1QtOSwhShSykTzb+HNt4ScuijLN4AGpqtmkZx+mXJRE812FTX4xNfUurBlcsWqZzBSabWAI3MZvnubE0E7MTnErnyRUa/5vhOSYy8xOrzPCUy2PP3RB1bv9gb2kWS8vgREQ65z3veQ8//vGPeemll9i/fz/33Xcfo6OjHDp0CN/32b17N5nM0v6wbhvcIO79738/l156KQ8++CBXXHEF3/3ud7nssss4dOgQDz30EJ/73Oe4/PLLue2221r+uRRk1gJjSr+k+0v7a2xbBPnFZ5KqAtASZqly05AeCz+rpk1bl/EtcSZp0SC1wCyVlvHJacBxDAMJn4GEz1lLPDaTD6rLXzdYAjcxm+OlqQx/HE4xmc6TyjZeBmdMqRrcYG+MgR6P/rhPf8ILl+p5DISvB3rmts09ewwkfOKeo9kgEZEG9u/fzw033MDY2Bi/+tWvuP/++9m2bRu+7/PLX/6S559/fsmfuW/fPu677z4uu+wyjh49ygsvvMDLX/5yjh07xnnnnccnP/lJjh07xhNPPMGePXvYtGkTH/jAB0gmk9xzzz1t+bkUZNY71y894v0r+73FoHo2qd5yu4bhqokglZlqfFwrHK/FkLTM5X5axidrRMJ32bHBZceGpf3hJR8Uq8phT9ZZAncqnSOVKZDKlIohTIXXAU3nCjT4w1+F75qqcNMfnx98Bsr7FIZEZJ15xSteQSqVYufOnZxxxhlcc801vO1tb2Pv3r1cdNFF7NmzZ8mfeeONN/Kxj32MCy+8EM/zuOeee4jH4/zoRz/i+9//Pr7vs2PHDm677TYeffRRbrnlFhzHwfd97rzzzrb8XKbRtFCn7d271x48eHBVvlvWMWshyC0wk9RMkFrOcr8Wl/FhmpttqgSkmme/dv8CbWuf3Tg4ugmkrJ7yUrhyyIk+T4Wvp2bn76t6vcCMUFnMdeaCUDQUNQhDA3Xa6H5BIlLryJEjXHDBBat9Gl2hXl8ZYw5Za/fWa68ZGVlfjAl/QY+v/HeXl/E1HYCWcE1UbhpmxiDIRsJW5LlVbqzJ8LPEkNRsW/2VfF2LLoWDnmV9RjQMlWd6osFnqjb4hM/PjaWZCl9PtxiGBmpmgBoFJoUhEZHmKMiIrJTVWsZXnoWqF3CqglGDfflF9leW8o3W3x9kW/8Z3Drhxl9OcFpGoHJjClKngWgY2jm4vDAUFEv3Cqo74xOGoak6+8bGZirblhKGBnqql8rVWw5XdS1RpL1KaItIK5588kmuvfbaqm3xeJzf/e53q3RG9SnIiJzuVnMWCqBYbCJI1cw0NdU28jx7qvH+INfiD2A6M8vU6JjaZYCOpyC1RriOqZSkXq5oGKpaDpedC0D1wtBoarrSfiYXLPo9Mc+pFEloFIbKwae6ncKQSCdYa7vqGrwLL7yQw4cPr+h3LudyFwUZEeksxwEnsTpV+SAMUkudZVpikEqPN97faoW+qjLn7QxUPc0d6+o/E+1UFYaWeOPUsqBoma4KPHXC0Gy+cv1Quc3IVLbyejlhqN41QbWV5RSGROZLJBKMj4+zefPmrgozK8lay/j4OInE0n5X0H+hROT05jjg9JSKJayGoBAGqeWEpCbbZlMNwlmrRSYA47a+bG9esYlmjulRoYkGXMeU7s/T2+LMUBiG6s0A1RZTKG8bnspU2qebCENxz2lQMa5eGPLnzyIlfGKexoB0t127djE0NMTo6Ohqn8qalkgk2LVr15KOUZAREekk1ys9VvpGu2VBobXZprrH1BSeyEzUPzY/C7RYGbNyz6ho+fLE3HMlKPVUXzdV1S4e2d/E56yD8NSOMFQIiuEyufrL4eaKKFQXU3hpKlNp00oYalQwQWFI1hrf9zn33HNX+zROSwoyIiKnM9cDNwnx5Mp/t7VQrA1SCwSqaMnz6A14yyXMa/eXq/XVO6a4+EX1DVWq9C0SkubtrxeSmgxRXbiEz3MdBntjDPbGlv0Z0TA0WaeaXLl0dr0wVK4+N5tfPAwlfKd+Ge06RRTKN1+tDUq+qzAkstY09S+nMeZNwD8ALvBda+3Xa/ZvAL4PnB1+5n+x1v6PNp+riIh0E2NWr1pfUIiEn2gJ80x1afNGIaluiAq3z56qH7xauR6qfLPdqsDU5hBV+znu8mdj2iUahs5a5mfkgyLT8wol1C6Rm19M4cTEbGVbq2EoevPVZLz06AsfpdduZZsCkUj7LBpkjDEucAfwV8AQ8Kgx5gFr7TORZn8NPGOtfZsxZivwR2PMfdbaVssFiYiILJ3rgdu/sgGqGDQIP20IUZnJms8J27RS3rx8/dOCS/PaHKI6UM7cdx029sXY2Lf8maHaMLTQdUO1Yai8fC6Tb+56tJjnVMJNXywaeObeJ6PbIoGoN+bOC0muo4vHZf1qZkbmVcCz1tpjAMaYHwJXAdEgY4F+UyrFkAROAi3M64uIiHQZxy1dC7WS10MViwuHoGjoaWa5XnR/eqx+GGvpJrtmCYGoXrBqZrlenf2LhKd2haFKVbhswEyudN+gmfAxnQ0ir+e2pXMFJtM5jp8qlI7LFpjOFWi2Em3Cd+bCTWxuBqj8vl4g6quZJSqHpL6Yh6NgJF2kmSCzE/hT5P0QcGlNm28BDwAngH7gamvnl8oxxnwU+CjA2WefvZzzFRERkTLHgVhv6bFSrG1haV6dWaXoMZkJSL1U/5hWCke0PKvU4NhI4PL9HjZ5CTb1J2Cwp6V7QFlrmc0HYeAJKuEnnWsciKLbRqezPD+engtSTRRVKOuNuVVL4ubC0Vwo6o01DkTRbT2+q3LD0lHNBJl6I7D2X5MrgMPAZcDLgF8YY35trZ2qOsja7wDfAdi7d2+LpWxERERkxRlT+uXdT8BKVTW3tnRz25aub6q3xC8DmSkojNQ/ph3ly10fHL80Y1d+7XqloOOE15A54fvwtXF9eh2P3krbsI1b55iED7319ruV10XjkbUu2cAwWzTMBg7pwtxzOjDM5A0zBZjOw3S+QCoXkMpbUjnDxAS8kLNMZS2TOUsm39yvcI6BvphHbzwSjmpmiZYSkuKeo2AkVZoJMkNQdQ3eLkozL1HXAV+3pVtyPmuM+TdgD/D7tpyliIiIrF/GhDMk8ZX7znLVveVc31QslApOFPMQ5EvXT1Ve58N9hcjrfHhMfu47i4XItvzCn2kXnnFxKGXOHmCw1X5xwfqlwGQdF2s8io5P0bgEuATGI8ClgEcBhzwueeuSL7jk8g65okvGOmSLpUcmKD0XcEnjkcLhOB55XArWpcDcIzAerufherHSw4/h+z6+H8P34/ixGPFYnFi89ByPx0nE4yQScXricRKJBL3xOD09CXp7EsRj8blA6bhtv35LOq+ZIPMocL4x5lzgOLAfeH9NmxeAvwR+bYzZDrwcONbOExURERFZMdGqewys9tksrBy66gal/PxQtFiQWiQ8mXC/KQYQ5HEX/c7IczFb850FbDGPDaLnkscUC5hGM2KF8NHK5Vp15PEoGpei8SoP67jYyoyYj3F9jONhPB/H9XG8WCVcOW50tqx2Nq3mufJ6gdm2urN51bNt1Z9Z7zvd9nbSGrNokLHWFowxnwB+Tqn88t3W2qeNMR8L998F/GfgHmPMk5SWot1qrR3r4HmLiIiICNSEru5jqH8dA8ViTThqbmYrl8uSzWbJZLNkszmyuSy5XJZ8Lksulyefz5LP5yjkcxTyeYJ8jqCQoxjkCQoFbJDDFkrhygYFXAJ8CngEeBTxKOCRwzez4b4AjwDfBMRMEd+UtvkmCI8JcAlwbQHXFjCt3ih4qb3bMOjUX4qI48PL3gj7PrOC57k8Td1Hxlr7EPBQzba7Iq9PAJe399REREREZN1yHHBiwNKqyZWPaEfxdWst2UIxUlhhrgDDRDMFGCLV69LZgOlcAWyxEn5KoahYCkIU8CLhp8+z9McsSd+Q9CxJH5J+kV4P+jxLr2fpcS09bpEe15JwiiTcInFn7hEzATGniG8DjC00mKGrDYmF1q8PWyHddythEREREZEVYIwh4bskfJctydav0WpUka42JNVWqRvLFnguDEYz6WAuHC2hIl1fpCJdb21FukR1AYaX7+jndS3/tJ2nICMiIiIisgKMMfTGPHpjXlumjIpFy0yuFGgaBaJ59zLKlbcFvDiZqbyfzhYqN3Z918U7ed35W1s/wQ5TkBERERER6UKOY+hP+PQnfLa34fMKQXFJ9x1abQoyIiIiIiKC5zps6HFW+zSaZkq3flmFLzZmFHh+Vb68vi2AKq11jvq389THnac+7jz1ceepjztL/dt56uPOW0t9fI61tu46t1ULMmuNMeagtXbvap/H6Ur923nq485TH3ee+rjz1Medpf7tPPVx53VLH3fP3JGIiIiIiEhIQUZERERERLqOgsyc76z2CZzm1L+dpz7uPPVx56mPO0993Fnq385TH3deV/SxrpEREREREZGuoxkZERERERHpOgoyIiIiIiLSddZVkDHGvMkY80djzLPGmL+ps98YY/5ruP8JY8x/WI3z7GZN9PEbjDGTxpjD4eO21TjPbmWMudsYM2KMearBfo3hFjXRxxrDLTLGnGWM+aUx5ogx5mljzKfqtNFYXqYm+1fjuAXGmIQx5vfGmMfDPv67Om00hlvQZB9rHLfIGOMaY/7FGPNPdfat+THsrfYJrBRjjAvcAfwVMAQ8aox5wFr7TKTZm4Hzw8elwJ3hszShyT4G+LW19soVP8HTwz3At4B7G+zXGG7dPSzcx6Ax3KoC8J+stY8ZY/qBQ8aYX+jf47Zppn9B47gVWeAya+20McYHHjHGPGyt/W2kjcZwa5rpY9A4btWngCPAQJ19a34Mr6cZmVcBz1prj1lrc8APgatq2lwF3GtLfgsMGmPOWOkT7WLN9LG0wFp7ADi5QBON4RY10cfSImvti9bax8LXKUr/Ed1Z00xjeZma7F9pQTgup8O3fviorZ6kMdyCJvtYWmCM2QW8FfhugyZrfgyvpyCzE/hT5P0Q8/9hb6aNNNZs/70mnCp+2BjzipU5tXVDY3hlaAy3iTFmN3Ax8LuaXRrLbbBA/4LGcUvCJTmHgRHgF9ZajeE2a6KPQeO4FX8PfBYoNti/5sfwegoyps622mTfTBtprJn+eww4x1r7SuC/Af+r0ye1zmgMd57GcJsYY5LAT4BPW2unanfXOURjeQkW6V+N4xZZawNr7UXALuBVxpg/r2miMdyiJvpY43iZjDFXAiPW2kMLNauzbU2N4fUUZIaAsyLvdwEnltFGGlu0/6y1U+WpYmvtQ4BvjNmycqd42tMY7jCN4fYI17z/BLjPWvvTOk00lluwWP9qHLePtXYC+D/Am2p2aQy3SaM+1jhuyV8AbzfGPEfpUoDLjDHfr2mz5sfwegoyjwLnG2PONcbEgP3AAzVtHgA+GFZpeDUwaa19caVPtIst2sfGmB3GGBO+fhWlMTi+4md6+tIY7jCN4daF/fffgSPW2m82aKaxvEzN9K/GcWuMMVuNMYPh6x7gPwJ/qGmmMdyCZvpY43j5rLWfs9bustbupvT72j9baz9Q02zNj+F1U7XMWlswxnwC+DngAndba582xnws3H8X8BDwFuBZIA1ct1rn242a7OP3AB83xhSAWWC/tXZNTVOuZcaYfwTeAGwxxgwBX6J0AaTGcJs00ccaw637C+Ba4Mlw/TvA3wJng8ZyGzTTvxrHrTkD+F5YrdMB7rfW/pN+p2irZvpY47jNum0MG/3vLSIiIiIi3WY9LS0TEREREZHThIKMiIiIiIh0HQUZERERERHpOgoyIiIiIiLSdRRkRERERESk6yjIiIiIiIhI11GQERERERGRrvP/AdrygZ7tVp/TAAAAAElFTkSuQmCC\n",
      "text/plain": [
       "<Figure size 1008x72 with 1 Axes>"
      ]
     },
     "metadata": {
      "needs_background": "light"
     },
     "output_type": "display_data"
    },
    {
     "data": {
      "image/png": "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\n",
      "text/plain": [
       "<Figure size 1008x72 with 1 Axes>"
      ]
     },
     "metadata": {
      "needs_background": "light"
     },
     "output_type": "display_data"
    }
   ],
   "source": [
    "plt.figure(figsize=(14,1))\n",
    "plt.plot(history.history['loss'], label='loss')\n",
    "plt.plot(history.history['val_loss'], label='val_loss')\n",
    "plt.legend()\n",
    "plt.show()\n",
    "plt.figure(figsize=(14,1))\n",
    "plt.plot(history.history['accuracy'], label='accuracy')\n",
    "plt.plot(history.history['val_accuracy'], label='val_accuracy')\n",
    "plt.legend()\n",
    "plt.show()\n"
   ]
  },
  {
   "cell_type": "markdown",
   "metadata": {},
   "source": [
    "# Exercício 5\n",
    "*Objetivo: usar a representação one-hot para as saídas da rede*\n",
    "\n",
    "Até este momento, estamos minimizando o EQM entre a saída predita e a saída \"correta\" de nossa base de dados. O EQM parece estar ligado ao erro de predição, mas só até um certo limite. Vamos agora testar outra ideia.\n",
    "\n",
    "As saídas da nossa rede serão tantas quantas as classes de nosso conjunto. Cada uma das saídas representará a probabilidade da entrada pertencer à classe correspondente, isto é, a saída $n$ significa:\n",
    "\n",
    "$$\n",
    "P(C_n | x)\n",
    "$$\n",
    "\n",
    "Para isso, vamos fazer as seguintes alterações na nossa rede:\n",
    "\n",
    "1. Teremos duas saída, e não mais uma única saída,\n",
    "1. A ativação que utilizaremos será a função `softmax`, que essencialmente força a saída a ter soma 1 ao longo de todas as probabilidades preditas,\n",
    "1. A função de *loss* será a entropia cruzada categórica, que significa que estamos minimizando a probabilidade de erro (e não mais o EQM)\n",
    "\n",
    "Como consequência, precisamos pré-processar nossos rótulos de forma que eles fiquem numa representação one-hot. Keras não nos dá um objeto para lidar com isso, mas sklearn sim:\n"
   ]
  },
  {
   "cell_type": "code",
   "execution_count": 170,
   "metadata": {},
   "outputs": [],
   "source": [
    "from sklearn.preprocessing import OneHotEncoder\n",
    "\n",
    "ohe = OneHotEncoder()\n",
    "y_train_ = ohe.fit_transform(y_train.to_numpy().reshape((-1,1))).todense()\n",
    "y_test_ = ohe.transform(y_test.to_numpy().reshape((-1,1))).todense()"
   ]
  },
  {
   "cell_type": "markdown",
   "metadata": {},
   "source": [
    "O código abaixo realiza o treinamento da rede usando a função softmax e a categorical cross-entropy como medida de erro.\n",
    "\n",
    "1. Verifique quantos parâmetros existem na nova rede. O que esses parâmetros significam?\n",
    "1. Adicione código para monitorar o histórico do loss e do accuracy no conjunto de validação, e treine a rede por 50 épocas.\n",
    "1. Após, use o método `.evaluate` para avaliar a rede num conjunto de teste.\n",
    "1. Compare o desempenho deste modelo com o do regressor logístico que foi feito no começo da aula."
   ]
  },
  {
   "cell_type": "code",
   "execution_count": 171,
   "metadata": {},
   "outputs": [
    {
     "name": "stdout",
     "output_type": "stream",
     "text": [
      "Model: \"model_43\"\n",
      "_________________________________________________________________\n",
      " Layer (type)                Output Shape              Param #   \n",
      "=================================================================\n",
      " input_45 (InputLayer)       [(None, 500)]             0         \n",
      "                                                                 \n",
      " classificador (Dense)       (None, 2)                 1002      \n",
      "                                                                 \n",
      " activation_43 (Activation)  (None, 2)                 0         \n",
      "                                                                 \n",
      "=================================================================\n",
      "Total params: 1,002\n",
      "Trainable params: 1,002\n",
      "Non-trainable params: 0\n",
      "_________________________________________________________________\n",
      "None\n",
      "Epoch 1/5\n",
      "24/24 [==============================] - 1s 4ms/step - loss: 0.6825 - accuracy: 0.5653\n",
      "Epoch 2/5\n",
      "24/24 [==============================] - 0s 4ms/step - loss: 0.6280 - accuracy: 0.6573\n",
      "Epoch 3/5\n",
      "24/24 [==============================] - 0s 4ms/step - loss: 0.5895 - accuracy: 0.7213\n",
      "Epoch 4/5\n",
      "24/24 [==============================] - 0s 4ms/step - loss: 0.5558 - accuracy: 0.7573\n",
      "Epoch 5/5\n",
      "24/24 [==============================] - 0s 4ms/step - loss: 0.5270 - accuracy: 0.7840\n"
     ]
    }
   ],
   "source": [
    "def softmax_model(vocab_size=500):\n",
    "    input_layer = Input(shape=(vocab_size,))\n",
    "    x = input_layer\n",
    "    x = Dense(2, name='classificador')(x)\n",
    "    x = Activation('softmax')(x)\n",
    "    return Model(input_layer, x)\n",
    "\n",
    "clf = softmax_model()\n",
    "print(clf.summary())\n",
    "clf.compile(loss='categorical_crossentropy', metrics=['accuracy'])\n",
    "history = clf.fit(X_train_, y_train_, epochs=5, verbose=1) # validation_split=0.1\n",
    "# clf.evaluate(X_test_, y_test_)"
   ]
  },
  {
   "cell_type": "code",
   "execution_count": null,
   "metadata": {},
   "outputs": [],
   "source": []
  },
  {
   "cell_type": "code",
   "execution_count": null,
   "metadata": {},
   "outputs": [],
   "source": []
  },
  {
   "cell_type": "markdown",
   "metadata": {},
   "source": [
    "# Exercício 6\n",
    "**Objetivo: investigar e interpretar os pesos da rede neural**\n",
    "\n",
    "A camada densa da rede neural recebe como entrada um vetor-coluna $x$, aplica um vetor-coluna de pesos $w$ e depois soma um bias $b$, retornando $x^T w + b$.\n",
    "\n",
    "Em nossa rede neural, o vetor de pesos tem 2 colunas:"
   ]
  },
  {
   "cell_type": "code",
   "execution_count": 172,
   "metadata": {},
   "outputs": [
    {
     "name": "stdout",
     "output_type": "stream",
     "text": [
      "(500, 2)\n"
     ]
    }
   ],
   "source": [
    "print(clf.get_layer('classificador').weights[0].shape)"
   ]
  },
  {
   "cell_type": "markdown",
   "metadata": {},
   "source": [
    "1. Por que esse vetor de pesos tem duas colunas?\n",
    "1. Qual é o significado de um peso que está na linha $i$ e na coluna $j$?\n",
    "1. Use o código abaixo para identificar o que a rede, na configuração atual, está \"olhando\" para realizar a classificação. Quais palavras mais tipicamente aparecem em reviews \"positivos\"? Quais palavras mais tipicamente aparecem em reviews \"negativos\"?"
   ]
  },
  {
   "cell_type": "code",
   "execution_count": 175,
   "metadata": {},
   "outputs": [
    {
     "name": "stderr",
     "output_type": "stream",
     "text": [
      "100%|██████████| 500/500 [00:00<00:00, 1016.96it/s]\n"
     ]
    }
   ],
   "source": [
    "from tqdm import tqdm\n",
    "weights = clf.get_layer('classificador').weights[0].numpy()\n",
    "CLASSE = 0\n",
    "for n in tqdm(range(len(vectorizer.vocabulary_))):\n",
    "    tuplas = [ (weights[vectorizer.vocabulary_[i],CLASSE], i) for i in vectorizer.vocabulary_.keys() ]\n",
    "    tuplas_ordenadas = sorted(tuplas, reverse=True) # reverse=True pede uma ordenação em ordem decrescente\n",
    "    palavras = [ t[1] for t in tuplas_ordenadas ]\n",
    "    contagens = [ t[0] for t in tuplas_ordenadas ]\n"
   ]
  },
  {
   "cell_type": "code",
   "execution_count": 176,
   "metadata": {},
   "outputs": [
    {
     "data": {
      "image/png": "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",
      "text/plain": [
       "<Figure size 1400x100 with 1 Axes>"
      ]
     },
     "metadata": {},
     "output_type": "display_data"
    }
   ],
   "source": [
    "n_palavras = 20\n",
    "\n",
    "plt.figure(figsize=(14,1))\n",
    "eixo_x = np.arange(n_palavras)\n",
    "plt.bar(eixo_x[0:n_palavras], contagens[0:n_palavras])\n",
    "plt.xticks(eixo_x[0:n_palavras], palavras[0:n_palavras], rotation=70)\n",
    "plt.title(\"Peso das palavras\")\n",
    "plt.show()"
   ]
  },
  {
   "cell_type": "code",
   "execution_count": null,
   "metadata": {},
   "outputs": [],
   "source": []
  }
 ],
 "metadata": {
  "kernelspec": {
   "display_name": "Python 3 (ipykernel)",
   "language": "python",
   "name": "python3"
  },
  "language_info": {
   "codemirror_mode": {
    "name": "ipython",
    "version": 3
   },
   "file_extension": ".py",
   "mimetype": "text/x-python",
   "name": "python",
   "nbconvert_exporter": "python",
   "pygments_lexer": "ipython3",
<<<<<<< HEAD
   "version": "3.9.12"
=======
   "version": "3.9.13"
>>>>>>> 15c14500fc19776a528a9f30c13a576759cd3e8d
  }
 },
 "nbformat": 4,
 "nbformat_minor": 2
}
