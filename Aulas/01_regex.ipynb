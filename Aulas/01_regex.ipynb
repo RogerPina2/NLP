{
 "cells": [
  {
   "cell_type": "markdown",
   "metadata": {},
   "source": [
    "# Reconhecendo padrões com RegEx\n",
    "\n",
    "Bibliografia:\n",
    "* Teoria: Chomsky, N, \"On Certain Formal Properties of Grammars\" INFORMATION AND CONTROL 9., 137-167 (1959) (https://somr.info/lib/Chomsky_1959.pdf)\n"
   ]
  },
  {
   "cell_type": "markdown",
   "metadata": {},
   "source": [
    "## Exercício 1: Uma máquina de estados finitos\n",
    "\n",
    "Leia atentamente o código abaixo. Ele define uma classe que deve receber, sequencialmente, um caractere a cada chamada de `ler_caractere()`:"
   ]
  },
  {
   "cell_type": "code",
   "execution_count": 1,
   "metadata": {},
   "outputs": [],
   "source": [
    "class UmaMaquinaDeEstadosSimples:\n",
    "    def __init__(self):\n",
    "        self.estado = 0\n",
    "    \n",
    "    def ler_caractere(self, caractere):\n",
    "        print(\"No estado \" + str(self.estado) + \" recebi o caractere \" + caractere)\n",
    "        if self.estado==0:\n",
    "            if caractere == 'a':\n",
    "                self.estado = 1\n",
    "            else:\n",
    "                self.estado = 0\n",
    "        \n",
    "        elif self.estado == 1:\n",
    "            if caractere == 'a':\n",
    "                self.estado = 1\n",
    "            else:\n",
    "                self.estado = 0\n",
    "        print(\"Fui para o estado \" + str(self.estado))\n",
    "\n",
    "    def finalizar(self):\n",
    "        if self.estado == 1:\n",
    "            return 'ACEITO'\n",
    "        else:\n",
    "            return 'REJEITO'"
   ]
  },
  {
   "cell_type": "markdown",
   "metadata": {},
   "source": [
    "(a) O que será impresso na tela caso executemos a seguinte chamada:"
   ]
  },
  {
   "cell_type": "code",
   "execution_count": 2,
   "metadata": {},
   "outputs": [
    {
     "name": "stdout",
     "output_type": "stream",
     "text": [
      "No estado 0 recebi o caractere a\n",
      "Fui para o estado 1\n",
      "No estado 1 recebi o caractere b\n",
      "Fui para o estado 0\n",
      "No estado 0 recebi o caractere b\n",
      "Fui para o estado 0\n",
      "No estado 0 recebi o caractere a\n",
      "Fui para o estado 1\n",
      "No estado 1 recebi o caractere a\n",
      "Fui para o estado 1\n",
      "ACEITO\n"
     ]
    }
   ],
   "source": [
    "minha_string = 'abbaa'\n",
    "maquina = UmaMaquinaDeEstadosSimples()\n",
    "for n in range(len(minha_string)):\n",
    "    maquina.ler_caractere(minha_string[n])\n",
    "print(maquina.finalizar())"
   ]
  },
  {
   "cell_type": "markdown",
   "metadata": {},
   "source": [
    "(b) Para cada valor de n, qual é o estado que a máquina de estados assume?\n",
    "\n",
    "- se n=a: \n",
    "    - estado = 1\n",
    "\n",
    "- se n = qualquer valor que não seja a:\n",
    "    - estado = 0\n",
    "\n",
    "\n",
    "(c) Encontre 3 strings que são rejeitadas pela máquina, e 3 strings que são aceitas pela máquina."
   ]
  },
  {
   "cell_type": "code",
   "execution_count": 3,
   "metadata": {},
   "outputs": [],
   "source": [
    "class UmaMaquinaDeEstados:\n",
    "    def __init__(self):\n",
    "        self.estado = 0\n",
    "    \n",
    "    def ler_caractere(self, caractere):\n",
    "        if self.estado==0:\n",
    "            if caractere == 'a':\n",
    "                self.estado = 1\n",
    "            elif caractere == 'b':\n",
    "                self.estado = 0\n",
    "            else:\n",
    "                self.estado = 2\n",
    "        \n",
    "        elif self.estado == 1:\n",
    "            if caractere == 'a':\n",
    "                self.estado = 0\n",
    "            elif caractere == 'b':\n",
    "                self.estado = 1\n",
    "            else:\n",
    "                self.estado = 2\n",
    "\n",
    "    def finalizar(self):\n",
    "        if self.estado == 1:\n",
    "            return 'ACEITO'\n",
    "        else:\n",
    "            return 'REJEITO'"
   ]
  },
  {
   "cell_type": "code",
   "execution_count": 4,
   "metadata": {},
   "outputs": [
    {
     "name": "stdout",
     "output_type": "stream",
     "text": [
      "ACEITO\n"
     ]
    }
   ],
   "source": [
    "minha_string = 'ab'\n",
    "# caso I - estado = 0\n",
    "    # termina em \"a\" ou \"ab\"\n",
    "# caso II - estado = 1\n",
    "    # termina em \"b\" ou \"a\" e caso I\n",
    "\n",
    "maquina = UmaMaquinaDeEstados()\n",
    "for n in range(len(minha_string)):\n",
    "    maquina.ler_caractere(minha_string[n])\n",
    "print(maquina.finalizar())"
   ]
  },
  {
   "cell_type": "markdown",
   "metadata": {},
   "source": [
    "## Exercício 2\n",
    "**Objetivo: relacionar o código de uma máquina de estados a sua representação como diagrama de bolha**\n",
    "\n",
    "O diagrama abaixo representa a máquina de estados implementada no Exercício 1.\n",
    "\n",
    "![Diagrama de Bolha](regex_bolha.png \"Diagrama de Bolha\")\n",
    "\n",
    "(a) Como os estados são representados no código computacional?\n",
    "- Armazena o valor numérico correspondente ao estado no atributo \"estado\" da máquina de estados.\n",
    "\n",
    "(b) Como os estados são representados no diagrama de bolha?\n",
    "- Uma bolha com o mesmo valor numérico representado no código computacional.\n",
    "\n",
    "(c) Como as transições entre estados são representadas no código computacional?\n",
    "- Substitui o valor do atributo \"estado\".\n",
    "\n",
    "(d) Como as transições entre estados são representadas no diagrama de bolha?\n",
    "- Setas.\n",
    "\n",
    "(e) Que informação a máquina de estados usa para calcular a transição de um estado para outro?\n",
    "- O valor de a\n",
    "\n",
    "(f) Marque no diagrama o estado inicial e o estado de \"aceitação\"."
   ]
  },
  {
   "cell_type": "markdown",
   "metadata": {},
   "source": [
    "## Exercício 3\n",
    "**Objetivo: desenhar um diagrama de bolhas à partir de um código computacional**\n",
    "\n",
    "Analise o código abaixo e:\n",
    "\n",
    "(a) Desenhe o diagrama de bolhas correspondente a esta máquina de estados\n",
    "![Diagrama de Bolha](aula01-exercício03.drawio.png \"Diagrama de Bolha\")\n",
    "\n",
    "(b) Encontre 3 palavras existentes em português que são aceitas pela cadeia, e 3 palavras que são rejeitadas.\n",
    "- Chegando, Andando, Passando - Gerundios ndo\n",
    "- chegar, andar, passar"
   ]
  },
  {
   "cell_type": "code",
   "execution_count": 5,
   "metadata": {},
   "outputs": [],
   "source": [
    "class ReconhecedorDeGerundismos:\n",
    "    def __init__(self):\n",
    "        self.estado = 0\n",
    "    \n",
    "    def ler_caractere(self, caractere):\n",
    "        if self.estado==0:\n",
    "            if caractere == 'n':\n",
    "                self.estado = 1\n",
    "            else:\n",
    "                self.estado = 0\n",
    "        \n",
    "        elif self.estado==1:\n",
    "            if caractere == 'd':\n",
    "                self.estado = 2\n",
    "            else:\n",
    "                self.estado = 0\n",
    "        \n",
    "        elif self.estado==2:\n",
    "            if caractere == 'o':\n",
    "                self.estado = 3\n",
    "            else:\n",
    "                self.estado = 0\n",
    "        \n",
    "        elif self.estado==3:\n",
    "            self.estado=0\n",
    "\n",
    "    def finalizar(self):\n",
    "        if self.estado == 3:\n",
    "            return 'ACEITO'\n",
    "        else:\n",
    "            return 'REJEITO'"
   ]
  },
  {
   "cell_type": "code",
   "execution_count": 6,
   "metadata": {},
   "outputs": [
    {
     "name": "stdout",
     "output_type": "stream",
     "text": [
      "ACEITO\n"
     ]
    }
   ],
   "source": [
    "minha_string = 'ndandendo'\n",
    "maquina = ReconhecedorDeGerundismos()\n",
    "for n in range(len(minha_string)):\n",
    "    maquina.ler_caractere(minha_string[n])\n",
    "print(maquina.finalizar())"
   ]
  },
  {
   "cell_type": "markdown",
   "metadata": {},
   "source": [
    "## Exercício 4\n",
    "**Objetivo: construir um reconhecedor de padrões usando máquinas de estados**\n",
    "\n",
    "Um problema que existe em formulários online é que, algumas vezes, o usuário digita dados inválidos nos campos. Um exemplo disso é quando há um campo de texto que pede o \"ano de nascimento\", e o valor digitado é, por exemplo, o ano digitado por extenso – quando, na verdade, estamos esperando um número inteiro.\n",
    "\n",
    "Implemente um programa que recebe uma string que foi digitada por um usuário hipotético e então informa se o valor digitado é um ano de nascimento válido na forma de um inteiro.\n",
    "\n",
    "Sugestão de roteiro:\n",
    "\n",
    "1. Faça uma lista de regras que você gostaria de implementar, incluindo as variações que você achar relevantes (por exemplo: você gostaria que fosse válido digitar tanto 1993 quanto 93? Posso ter espaços antes ou depois do número? O que acontece se eu digitar cinco dígitos? O que acontece se eu digitar anos que ainda não aconteceram, como 3022?)\n",
    "1. Faça um diagrama de bolha mostrando a máquina de estados que você irá implementar\n",
    "1. Implemente sua máquina de estados mapeando diretamente o diagrama de bolha para um código computacional. Se quiser, baseie-se nos códigos fornecidos como exemplo.\n"
   ]
  },
  {
   "cell_type": "code",
   "execution_count": 36,
   "metadata": {},
   "outputs": [],
   "source": [
    "# Faça o exercício aqui\n",
    "\n",
    "class ReconhecedorDeDatasDeNascimento:\n",
    "    def __init__(self):\n",
    "        self.estado = 0\n",
    "        \n",
    "    def ler_caractere(self, caractere):\n",
    "        if self.estado == 0:\n",
    "            if caractere in ['0', '1']:\n",
    "                self.estado = 1\n",
    "            elif caractere == '2':\n",
    "                self.estado = 5\n",
    "            else:\n",
    "                self.estado = 0\n",
    "                \n",
    "        elif self.estado == 1:\n",
    "            if caractere in [str(x) for x in range(0,10)]:\n",
    "                self.estado = 2 \n",
    "            else:\n",
    "                self.estado = 0\n",
    "                \n",
    "        elif self.estado == 2:\n",
    "            if caractere in [str(x) for x in range(0,10)]:\n",
    "                self.estado = 3\n",
    "            else:\n",
    "                self.estado = 0\n",
    "        \n",
    "        elif self.estado == 3:\n",
    "            if caractere in [str(x) for x in range(0,10)]:\n",
    "                self.estado = 4\n",
    "            else:\n",
    "                self.estado = 0\n",
    "        \n",
    "        elif self.estado == 4:\n",
    "            if caractere == '-':\n",
    "                self.estado = 9\n",
    "            else:\n",
    "                self.estado = 0\n",
    "        \n",
    "        elif self.estado == 5:\n",
    "            if caractere == '0':\n",
    "                self.estado = 6\n",
    "            else:\n",
    "                self.estado = 0\n",
    "                \n",
    "        elif self.estado == 6:\n",
    "            if caractere in ['0', '1']:\n",
    "                self.estado = 7\n",
    "            elif caractere == '2':\n",
    "                self.estado = 8\n",
    "            else:\n",
    "                self.estado = 0\n",
    "        \n",
    "        elif self.estado == 7:\n",
    "            if caractere in [str(x) for x in range(0,10)]:\n",
    "                self.estado = 4\n",
    "            else:\n",
    "                self.estado = 0\n",
    "                \n",
    "        elif self.estado == 8:\n",
    "            if caractere in ['0', '1', '2', '3']:\n",
    "                self.estado = 4\n",
    "            else:\n",
    "                self.estado = 0\n",
    "                \n",
    "        elif self.estado == 9:\n",
    "            if caractere == '0':\n",
    "                self.estado = 10\n",
    "            elif caractere == '1':\n",
    "                self.estado = 11\n",
    "            else:\n",
    "                self.estado = 0 \n",
    "        \n",
    "        elif self.estado == 10:\n",
    "            if caractere in (['1'] + [str(x) for x in range(3,10)]):\n",
    "                self.estado = 12\n",
    "            elif caractere == '2':\n",
    "                self.estado = 13\n",
    "            else:\n",
    "                self.estado = 0\n",
    "            \n",
    "        elif self.estado == 11:\n",
    "            if caractere in [str(x) for x in range(0,3)]:\n",
    "                self.estado = 12\n",
    "            else:\n",
    "                self.estado = 0\n",
    "        \n",
    "        elif self.estado == 12:\n",
    "            if caractere == '-':\n",
    "                self.estado = 14\n",
    "            else:\n",
    "                self.estado = 0\n",
    "        \n",
    "        elif self.estado == 13:\n",
    "            if caractere == '-':\n",
    "                self.estado = 18\n",
    "            else:\n",
    "                self.estado = 0\n",
    "        \n",
    "        elif self.estado == 14:\n",
    "            if caractere == '0':\n",
    "                self.estado = 15\n",
    "            elif caractere in ['1','2']:\n",
    "                self.estado = 16\n",
    "            elif caractere == '3':\n",
    "                self.estado = 17\n",
    "            else:\n",
    "                self.estado = 0\n",
    "                \n",
    "        elif self.estado == 15:\n",
    "            if caractere in [str(x) for x in range(1,10)]:\n",
    "                self.estado = 20\n",
    "            else:\n",
    "                self.estado = 0\n",
    "        \n",
    "        elif self.estado == 16:\n",
    "            if caractere in [str(x) for x in range(0,10)]:\n",
    "                self.estado = 20\n",
    "            else:\n",
    "                self.estado = 0\n",
    "        \n",
    "        elif self.estado == 17:\n",
    "            if caractere in ['0', '1']:\n",
    "                self.estado = 20\n",
    "            else:\n",
    "                self.estado = 0\n",
    "                \n",
    "        elif self.estado == 18:\n",
    "            if caractere == '0':\n",
    "                self.estado = 15\n",
    "            elif caractere == '1':\n",
    "                self.estado = 16\n",
    "            elif caractere == '2':\n",
    "                self.estado = 19\n",
    "            else: \n",
    "                self.estado = 0\n",
    "                \n",
    "        elif self.estado == 19:\n",
    "            if caractere in [str(x) for x in range(0,9)]:\n",
    "                self.estado = 20\n",
    "            else:\n",
    "                self.estado = 0\n",
    "                \n",
    "    def finalizar(self):\n",
    "        if self.estado == 20:\n",
    "            return 'ACEITO'\n",
    "        else:\n",
    "            return 'REJEITO'"
   ]
  },
  {
   "cell_type": "code",
   "execution_count": 46,
   "metadata": {},
   "outputs": [
    {
     "name": "stdout",
     "output_type": "stream",
     "text": [
      "ACEITO\n"
     ]
    }
   ],
   "source": [
    "minha_string = '2000-09-31'\n",
    "maquina = ReconhecedorDeDatasDeNascimento()\n",
    "for n in range(len(minha_string)):\n",
    "    maquina.ler_caractere(minha_string[n])\n",
    "print(maquina.finalizar())"
   ]
  },
  {
   "cell_type": "markdown",
   "metadata": {},
   "source": [
    "<font color=\"red\">FALTA ARRUMAR MESES QUE VÃO ATÉ O DIA 30 OU 31</font>"
   ]
  },
  {
   "cell_type": "markdown",
   "metadata": {},
   "source": [
    "## Exercício 5\n",
    "**Objetivo: relacionar expressões regulares a máquinas de estados correspondentes**\n",
    "\n",
    "Existem vários tipos de strings que obedecem a padrões. Existem padrões para placas de carros (as placas antigas são compostas por três letras seguidas de quatro dígitos), para números inteiros (um ou mais dígitos seguidos), siglas de rodovias, e assim por diante. Podemos encontrar máquinas de estados para vários deles, mas é claramente pouco prático programar cadeias de if-then-else para cada um desses casos. Daí aparecem as expressões regulares, que são strings que permitem descrever máquinas de estados para reconhecimentos de padrões.\n",
    "\n",
    "Numa expressão regular, um caractere qualquer corresponde exatamente a aquele caractere, na sequência que ele aparece. Isso significa que temos a sequência `ab`, por exemplo, pode ser imediatamente associada à máquina de estados:\n",
    "\n",
    "![Diagrama de Bolha](regex_ab.png \"Diagrama de Bolha\")\n",
    "\n",
    "Embora seja possível, é pouco prático converter manualmente uma expressão regular em uma máquina de estados. Por isso, usamos a biblioteca `re` em Python para usar expressões regulares. Neste exercício, usaremos a função `re.fullmatch()`, que recebe como entrada uma string e uma expressão regular e então retorna ou a informação sobre como a expressão regular foi encontrada ou `None`. No código abaixo, modifique a string de teste e/ou a expressão regular para verificar os diferentes comportamentos da função:"
   ]
  },
  {
   "cell_type": "code",
   "execution_count": 47,
   "metadata": {},
   "outputs": [
    {
     "name": "stdout",
     "output_type": "stream",
     "text": [
      "<re.Match object; span=(0, 2), match='ab'>\n"
     ]
    }
   ],
   "source": [
    "import re\n",
    "\n",
    "a = re.fullmatch(\"ab\", \"ab\")\n",
    "print(a)"
   ]
  },
  {
   "cell_type": "markdown",
   "metadata": {},
   "source": [
    "## Exercício 6\n",
    "**Objetivo: usar caracteres especiais das expressões regulares**\n",
    "\n",
    "A maior utilidade das expressões regulares aparece quando usamos caracteres especiais. Para cada um dos casos abaixo, (i) desenhe a máquina de estados correspondente ao exemplo de trabalho e (ii) encontre uma string que é aceita e uma que é rejeitada pela expressão, e teste ambas em um código Python.\n",
    "\n",
    "(a) O caractere `+` significa \"um ou mais caracteres do tipo anterior a este símbolo\". Por exemplo, \"a+\" significa \"um ou mais caracteres `a`\".\n",
    "Exemplo de trabalho: `ab+` \n",
    "\n",
    "(b) O caractere `*` significa \"zero ou mais caracteres do tipo anterior a este símbolo\". Por exemplo, \"a*\" significa \"zero ou mais caracteres `a`\".\n",
    "Exemplo de trabalho: `a*b+`\n",
    "\n",
    "(c) O caractere  `?` significa \"zero ou um caractere do tipo anterior a este símbolo\". Por exemplo, \"a?\" significa \"zero ou um caractere  `a`\".\n",
    "Exemplo de trabalho: `ab?`\n",
    "\n",
    "(d) Quando colocamos expressões entre colchetes [ ], isso significa que trata-se de um conjunto, e a expressão aceita uma instância de qualquer um dos caracteres contidos. Por exemplo, \"[abc]\" significa \"qualquer um entre `a`, `b` ou `c`\".\n",
    "Exemplo de trabalho: `a[ab]+`\n",
    "\n",
    "(e) Se o caractere `^` é o primeiro elemento de um conjunto, então a expressão regular aceitará o complemento do conjunto. Por exemplo: \"[^a]\" significa \"qualquer caractere, menos `a`.\n",
    "Exemplo de trabalho: `a[^b]`\n",
    "\n",
    "(f) O caractere `.` (ponto) representa qualquer caractere. Por exemplo, \"a.b\" significa \"`a` seguido de qualquer caractere e então seguido de `b`\".\n",
    "Exemplo de trabalho: `.b+`\n",
    "\n",
    "(g) Quando colocamos elementos entre parêntese `()`, isso significa uma sequência. Por exemplo, `(ab)+` significa uma repetição de uma ou mais vezes da sequência `ab` (`ab`, `abab`, `ababab`, etc.)\n",
    "Exemplo de trabalho: `(aa)+(bb)?`\n",
    "\n",
    "(h) O caractere `|` (barra vertical) representa um \"ou\". Por exemplo: `aa|ab|bb` significa \"ou um `aa`, ou `ab`, ou `bb`\". \n",
    "Exemplo de trabalho: `SP|RJ|MG`. Qual é a diferença disso para `(SP)|(RJ)|(MG)`? Como posso fazer: \"S, seguindo de P ou R, seguindo de J ou M, seguido de G\"?\n",
    "\n",
    "Veja mais em: https://docs.python.org/3/library/re.html\n",
    "\n"
   ]
  },
  {
   "cell_type": "code",
   "execution_count": 25,
   "metadata": {},
   "outputs": [
    {
     "name": "stdout",
     "output_type": "stream",
     "text": [
      "<re.Match object; span=(0, 6), match='abbbbb'>\n"
     ]
    }
   ],
   "source": [
    "# Faça seu código aqui\n",
    "\n",
    "# Exemplo (a)\n",
    "a = re.fullmatch(\"ab+\", \"abbbbb\")\n",
    "print(a)"
   ]
  },
  {
   "cell_type": "markdown",
   "metadata": {},
   "source": [
    "## Exercício 7\n",
    "**Objetivo: usar expressões regulares para validar campos**\n",
    "Em expressões regulares, também temos acesso a conjuntos que são usados muito comumente:\n",
    "\n",
    "* `[0-9]` significa qualquer dígito entre 0 e 9\n",
    "* `[a-z]` significa qualquer letra minúscula, `[A-Z]` significa qualquer letra maiúscula\n",
    "* `[A-Za-z0-9]` significa qualquer letra maiúscula ou minúscula ou digíto.\n",
    "* `\\w` significa qualquer caractere que podem fazer parte de palavras, incluindo underscore (_), números, e caracteres com acento\n",
    "* `\\W` é o complemento de `\\w` (ou: `\\W = [^\\w]`\n",
    "* `\\s` significa qualquer caractere em branco ou quebra de linha\n",
    "* `\\S = [^\\s]`\n",
    "* `\\d` significa qualquer dígito, e `\\D` significa qualquer caractere não-digíto\n",
    "\n",
    "Combine estas regras para gerar programas em Python que validam se uma string recebida como entrada representa:\n",
    "\n",
    "1. uma placa de carro válida, considerando o padrão antigo (3 letras seguidas de 4 dígitos).\n",
    "1. um número de telefone celular de são Paulo\n",
    "1. um CEP válido\n",
    "1. um verbo conjugado no gerúndio em português\n"
   ]
  },
  {
   "cell_type": "code",
   "execution_count": 28,
   "metadata": {},
   "outputs": [],
   "source": [
    "def placa_valida(s):\n",
    "    return False\n",
    "\n",
    "def celular_valido(s):\n",
    "    return False\n",
    "\n",
    "def CEP_valido(s):\n",
    "    return False\n",
    "\n",
    "def gerundio(s):\n",
    "    return False\n"
   ]
  },
  {
   "cell_type": "markdown",
   "metadata": {},
   "source": [
    "## Exercício 8\n",
    "**Objetivo: usar expressões regulares para validar e-mails**\n",
    "\n",
    "Faça uma função em Python que recebe como entrada uma string qualquer e retorna True se essa string representa um endereço de e-mail válido, e retorna False caso contrário."
   ]
  },
  {
   "cell_type": "code",
   "execution_count": 48,
   "metadata": {},
   "outputs": [],
   "source": [
    "# Resolva seu exercício aqui\n",
    "def eh_um_email(s):\n",
    "\n",
    "    if re.match(r\"[^@]+@[^@]+\\.[^@]+\", s):\n",
    "        print(\"Email válido!\")\n",
    "    else:\n",
    "        print(\"Email inválido.\")"
   ]
  },
  {
   "cell_type": "code",
   "execution_count": 49,
   "metadata": {},
   "outputs": [
    {
     "name": "stdout",
     "output_type": "stream",
     "text": [
      "Email válido!\n"
     ]
    }
   ],
   "source": [
    "eh_um_email('roger.pina12@hotmail.com')"
   ]
  },
  {
   "cell_type": "code",
   "execution_count": null,
   "metadata": {},
   "outputs": [],
   "source": []
  }
 ],
 "metadata": {
  "kernelspec": {
   "display_name": "Python 3 (ipykernel)",
   "language": "python",
   "name": "python3"
  },
  "language_info": {
   "codemirror_mode": {
    "name": "ipython",
    "version": 3
   },
   "file_extension": ".py",
   "mimetype": "text/x-python",
   "name": "python",
   "nbconvert_exporter": "python",
   "pygments_lexer": "ipython3",
   "version": "3.9.13"
  },
  "vscode": {
   "interpreter": {
    "hash": "42e34ec1a81382d7a35a13fd98192c35dabe0890684b7b0a474deec672e3df02"
   }
  }
 },
 "nbformat": 4,
 "nbformat_minor": 2
}
