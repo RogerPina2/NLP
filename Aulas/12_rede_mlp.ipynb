{
 "cells": [
  {
   "cell_type": "code",
<<<<<<< HEAD
   "execution_count": 3,
=======
   "execution_count": null,
>>>>>>> upstream/main
   "metadata": {},
   "outputs": [],
   "source": [
    "import matplotlib.pyplot as plt\n",
    "import pandas as pd\n",
    "import numpy as np\n",
    "from sklearn.feature_extraction.text import CountVectorizer\n",
    "from sklearn.pipeline import Pipeline\n",
    "from sklearn.metrics import accuracy_score\n",
    "from sklearn.linear_model import LogisticRegression\n",
    "from sklearn.model_selection import train_test_split\n",
    "\n",
    "from keras.layers import Input, Dense, Activation\n",
    "from keras.models import Model\n",
    "import tensorflow as tf\n",
    "from tensorflow.keras.utils import plot_model"
   ]
  },
  {
   "cell_type": "markdown",
   "metadata": {},
   "source": [
    "# Exercício 1\n",
    "**Objetivo: retomar o classificador logístico**\n",
    "\n",
    "Até o momento, usamos a regressão logística como método para classificação.\n",
    "\n",
    "Com suas palavras, discuta: o que cada etapa da pipeline de classificação abaixo faz?"
   ]
  },
  {
   "cell_type": "code",
<<<<<<< HEAD
   "execution_count": 10,
=======
   "execution_count": null,
>>>>>>> upstream/main
   "metadata": {},
   "outputs": [],
   "source": [
    "df = pd.read_csv('datasets/IMDB Dataset.csv').sample(1000)\n",
    "X_train, X_test, y_train, y_test = train_test_split(df['review'], df['sentiment'])"
   ]
  },
  {
   "cell_type": "code",
<<<<<<< HEAD
   "execution_count": 11,
   "metadata": {},
   "outputs": [
    {
     "ename": "ValueError",
     "evalue": "Logistic Regression supports only penalties in ['l1', 'l2', 'elasticnet', 'none'], got None.",
     "output_type": "error",
     "traceback": [
      "\u001b[1;31m---------------------------------------------------------------------------\u001b[0m",
      "\u001b[1;31mValueError\u001b[0m                                Traceback (most recent call last)",
      "Input \u001b[1;32mIn [11]\u001b[0m, in \u001b[0;36m<cell line: 5>\u001b[1;34m()\u001b[0m\n\u001b[0;32m      1\u001b[0m classificador \u001b[38;5;241m=\u001b[39m Pipeline([\n\u001b[0;32m      2\u001b[0m                         (\u001b[38;5;124m'\u001b[39m\u001b[38;5;124mmeu_vetorizador\u001b[39m\u001b[38;5;124m'\u001b[39m, CountVectorizer(stop_words\u001b[38;5;241m=\u001b[39m\u001b[38;5;124m'\u001b[39m\u001b[38;5;124menglish\u001b[39m\u001b[38;5;124m'\u001b[39m, binary\u001b[38;5;241m=\u001b[39m\u001b[38;5;28;01mTrue\u001b[39;00m, max_features\u001b[38;5;241m=\u001b[39m\u001b[38;5;241m500\u001b[39m)),\n\u001b[0;32m      3\u001b[0m                         (\u001b[38;5;124m'\u001b[39m\u001b[38;5;124mmeu_classificador\u001b[39m\u001b[38;5;124m'\u001b[39m, LogisticRegression(penalty\u001b[38;5;241m=\u001b[39m\u001b[38;5;28;01mNone\u001b[39;00m, solver\u001b[38;5;241m=\u001b[39m\u001b[38;5;124m'\u001b[39m\u001b[38;5;124msaga\u001b[39m\u001b[38;5;124m'\u001b[39m, max_iter\u001b[38;5;241m=\u001b[39m\u001b[38;5;241m10000\u001b[39m))\n\u001b[0;32m      4\u001b[0m                         ])\n\u001b[1;32m----> 5\u001b[0m \u001b[43mclassificador\u001b[49m\u001b[38;5;241;43m.\u001b[39;49m\u001b[43mfit\u001b[49m\u001b[43m(\u001b[49m\u001b[43mX_train\u001b[49m\u001b[43m,\u001b[49m\u001b[43my_train\u001b[49m\u001b[43m)\u001b[49m\n\u001b[0;32m      6\u001b[0m y_pred \u001b[38;5;241m=\u001b[39m classificador\u001b[38;5;241m.\u001b[39mpredict(X_test)\n\u001b[0;32m      7\u001b[0m acc \u001b[38;5;241m=\u001b[39m accuracy_score(y_pred,y_test)\n",
      "File \u001b[1;32m~\\anaconda3\\lib\\site-packages\\sklearn\\pipeline.py:394\u001b[0m, in \u001b[0;36mPipeline.fit\u001b[1;34m(self, X, y, **fit_params)\u001b[0m\n\u001b[0;32m    392\u001b[0m     \u001b[38;5;28;01mif\u001b[39;00m \u001b[38;5;28mself\u001b[39m\u001b[38;5;241m.\u001b[39m_final_estimator \u001b[38;5;241m!=\u001b[39m \u001b[38;5;124m\"\u001b[39m\u001b[38;5;124mpassthrough\u001b[39m\u001b[38;5;124m\"\u001b[39m:\n\u001b[0;32m    393\u001b[0m         fit_params_last_step \u001b[38;5;241m=\u001b[39m fit_params_steps[\u001b[38;5;28mself\u001b[39m\u001b[38;5;241m.\u001b[39msteps[\u001b[38;5;241m-\u001b[39m\u001b[38;5;241m1\u001b[39m][\u001b[38;5;241m0\u001b[39m]]\n\u001b[1;32m--> 394\u001b[0m         \u001b[38;5;28mself\u001b[39m\u001b[38;5;241m.\u001b[39m_final_estimator\u001b[38;5;241m.\u001b[39mfit(Xt, y, \u001b[38;5;241m*\u001b[39m\u001b[38;5;241m*\u001b[39mfit_params_last_step)\n\u001b[0;32m    396\u001b[0m \u001b[38;5;28;01mreturn\u001b[39;00m \u001b[38;5;28mself\u001b[39m\n",
      "File \u001b[1;32m~\\anaconda3\\lib\\site-packages\\sklearn\\linear_model\\_logistic.py:1461\u001b[0m, in \u001b[0;36mLogisticRegression.fit\u001b[1;34m(self, X, y, sample_weight)\u001b[0m\n\u001b[0;32m   1432\u001b[0m \u001b[38;5;28;01mdef\u001b[39;00m \u001b[38;5;21mfit\u001b[39m(\u001b[38;5;28mself\u001b[39m, X, y, sample_weight\u001b[38;5;241m=\u001b[39m\u001b[38;5;28;01mNone\u001b[39;00m):\n\u001b[0;32m   1433\u001b[0m     \u001b[38;5;124;03m\"\"\"\u001b[39;00m\n\u001b[0;32m   1434\u001b[0m \u001b[38;5;124;03m    Fit the model according to the given training data.\u001b[39;00m\n\u001b[0;32m   1435\u001b[0m \n\u001b[1;32m   (...)\u001b[0m\n\u001b[0;32m   1459\u001b[0m \u001b[38;5;124;03m    The SAGA solver supports both float64 and float32 bit arrays.\u001b[39;00m\n\u001b[0;32m   1460\u001b[0m \u001b[38;5;124;03m    \"\"\"\u001b[39;00m\n\u001b[1;32m-> 1461\u001b[0m     solver \u001b[38;5;241m=\u001b[39m \u001b[43m_check_solver\u001b[49m\u001b[43m(\u001b[49m\u001b[38;5;28;43mself\u001b[39;49m\u001b[38;5;241;43m.\u001b[39;49m\u001b[43msolver\u001b[49m\u001b[43m,\u001b[49m\u001b[43m \u001b[49m\u001b[38;5;28;43mself\u001b[39;49m\u001b[38;5;241;43m.\u001b[39;49m\u001b[43mpenalty\u001b[49m\u001b[43m,\u001b[49m\u001b[43m \u001b[49m\u001b[38;5;28;43mself\u001b[39;49m\u001b[38;5;241;43m.\u001b[39;49m\u001b[43mdual\u001b[49m\u001b[43m)\u001b[49m\n\u001b[0;32m   1463\u001b[0m     \u001b[38;5;28;01mif\u001b[39;00m \u001b[38;5;129;01mnot\u001b[39;00m \u001b[38;5;28misinstance\u001b[39m(\u001b[38;5;28mself\u001b[39m\u001b[38;5;241m.\u001b[39mC, numbers\u001b[38;5;241m.\u001b[39mNumber) \u001b[38;5;129;01mor\u001b[39;00m \u001b[38;5;28mself\u001b[39m\u001b[38;5;241m.\u001b[39mC \u001b[38;5;241m<\u001b[39m \u001b[38;5;241m0\u001b[39m:\n\u001b[0;32m   1464\u001b[0m         \u001b[38;5;28;01mraise\u001b[39;00m \u001b[38;5;167;01mValueError\u001b[39;00m(\u001b[38;5;124m\"\u001b[39m\u001b[38;5;124mPenalty term must be positive; got (C=\u001b[39m\u001b[38;5;132;01m%r\u001b[39;00m\u001b[38;5;124m)\u001b[39m\u001b[38;5;124m\"\u001b[39m \u001b[38;5;241m%\u001b[39m \u001b[38;5;28mself\u001b[39m\u001b[38;5;241m.\u001b[39mC)\n",
      "File \u001b[1;32m~\\anaconda3\\lib\\site-packages\\sklearn\\linear_model\\_logistic.py:441\u001b[0m, in \u001b[0;36m_check_solver\u001b[1;34m(solver, penalty, dual)\u001b[0m\n\u001b[0;32m    439\u001b[0m all_penalties \u001b[38;5;241m=\u001b[39m [\u001b[38;5;124m\"\u001b[39m\u001b[38;5;124ml1\u001b[39m\u001b[38;5;124m\"\u001b[39m, \u001b[38;5;124m\"\u001b[39m\u001b[38;5;124ml2\u001b[39m\u001b[38;5;124m\"\u001b[39m, \u001b[38;5;124m\"\u001b[39m\u001b[38;5;124melasticnet\u001b[39m\u001b[38;5;124m\"\u001b[39m, \u001b[38;5;124m\"\u001b[39m\u001b[38;5;124mnone\u001b[39m\u001b[38;5;124m\"\u001b[39m]\n\u001b[0;32m    440\u001b[0m \u001b[38;5;28;01mif\u001b[39;00m penalty \u001b[38;5;129;01mnot\u001b[39;00m \u001b[38;5;129;01min\u001b[39;00m all_penalties:\n\u001b[1;32m--> 441\u001b[0m     \u001b[38;5;28;01mraise\u001b[39;00m \u001b[38;5;167;01mValueError\u001b[39;00m(\n\u001b[0;32m    442\u001b[0m         \u001b[38;5;124m\"\u001b[39m\u001b[38;5;124mLogistic Regression supports only penalties in \u001b[39m\u001b[38;5;132;01m%s\u001b[39;00m\u001b[38;5;124m, got \u001b[39m\u001b[38;5;132;01m%s\u001b[39;00m\u001b[38;5;124m.\u001b[39m\u001b[38;5;124m\"\u001b[39m\n\u001b[0;32m    443\u001b[0m         \u001b[38;5;241m%\u001b[39m (all_penalties, penalty)\n\u001b[0;32m    444\u001b[0m     )\n\u001b[0;32m    446\u001b[0m \u001b[38;5;28;01mif\u001b[39;00m solver \u001b[38;5;129;01mnot\u001b[39;00m \u001b[38;5;129;01min\u001b[39;00m [\u001b[38;5;124m\"\u001b[39m\u001b[38;5;124mliblinear\u001b[39m\u001b[38;5;124m\"\u001b[39m, \u001b[38;5;124m\"\u001b[39m\u001b[38;5;124msaga\u001b[39m\u001b[38;5;124m\"\u001b[39m] \u001b[38;5;129;01mand\u001b[39;00m penalty \u001b[38;5;129;01mnot\u001b[39;00m \u001b[38;5;129;01min\u001b[39;00m (\u001b[38;5;124m\"\u001b[39m\u001b[38;5;124ml2\u001b[39m\u001b[38;5;124m\"\u001b[39m, \u001b[38;5;124m\"\u001b[39m\u001b[38;5;124mnone\u001b[39m\u001b[38;5;124m\"\u001b[39m):\n\u001b[0;32m    447\u001b[0m     \u001b[38;5;28;01mraise\u001b[39;00m \u001b[38;5;167;01mValueError\u001b[39;00m(\n\u001b[0;32m    448\u001b[0m         \u001b[38;5;124m\"\u001b[39m\u001b[38;5;124mSolver \u001b[39m\u001b[38;5;132;01m%s\u001b[39;00m\u001b[38;5;124m supports only \u001b[39m\u001b[38;5;124m'\u001b[39m\u001b[38;5;124ml2\u001b[39m\u001b[38;5;124m'\u001b[39m\u001b[38;5;124m or \u001b[39m\u001b[38;5;124m'\u001b[39m\u001b[38;5;124mnone\u001b[39m\u001b[38;5;124m'\u001b[39m\u001b[38;5;124m penalties, got \u001b[39m\u001b[38;5;132;01m%s\u001b[39;00m\u001b[38;5;124m penalty.\u001b[39m\u001b[38;5;124m\"\u001b[39m\n\u001b[0;32m    449\u001b[0m         \u001b[38;5;241m%\u001b[39m (solver, penalty)\n\u001b[0;32m    450\u001b[0m     )\n",
      "\u001b[1;31mValueError\u001b[0m: Logistic Regression supports only penalties in ['l1', 'l2', 'elasticnet', 'none'], got None."
     ]
    }
   ],
=======
   "execution_count": null,
   "metadata": {},
   "outputs": [],
>>>>>>> upstream/main
   "source": [
    "classificador = Pipeline([\n",
    "                        ('meu_vetorizador', CountVectorizer(stop_words='english', binary=True, max_features=500)),\n",
    "                        ('meu_classificador', LogisticRegression(penalty=None, solver='saga', max_iter=10000))\n",
    "                        ])\n",
    "classificador.fit(X_train,y_train)\n",
    "y_pred = classificador.predict(X_test)\n",
    "acc = accuracy_score(y_pred,y_test)\n",
    "print(acc)"
   ]
  },
  {
   "cell_type": "markdown",
   "metadata": {},
   "source": [
    "# Exercício 2\n",
    "*Objetivo: implementar o regressor logístico usando Keras*\n",
    "\n",
    "O regressor logístico, para diferenciar entre duas classes, faz o seguinte processo:\n",
    "\n",
    "1. Uma das classes é associada à saída 1, e a outra é associada à saída -1\n",
    "1. O classificador recebe como entrada um vetor-coluna $x$\n",
    "1. A entrada é multiplicada por um vetor de pesos e depois somada a um *bias*, gerando $y_1 = x^T w + b$\n",
    "1. A função $\\tanh()$ é aplicada a $y_1$, gerando a saída $\\hat{y} = \\tanh(y_1)$\n",
    "\n",
    "Quando estamos *treinando* o regressor logístico (na chamada `.fit()`), ajustamos os pesos $w$ para que o erro quadrático médio seja reduzido em um conjunto de treinamento.\n",
    "\n",
    "Vamos implementar essa mesma sequência usando Keras, isto é, vamos executar uma pequena rede neural para fazer essa mesma tarefa.\n",
    "\n",
    "No código abaixo, identifique as partes correspondentes a cada uma dessas etapas."
   ]
  },
  {
   "cell_type": "code",
<<<<<<< HEAD
   "execution_count": 12,
=======
   "execution_count": null,
>>>>>>> upstream/main
   "metadata": {},
   "outputs": [],
   "source": [
    "def pre_processar_saidas(y):\n",
    "    y_out = np.zeros_like(y)\n",
    "    y_out[ y=='negative' ] = -1.0\n",
    "    y_out[ y=='positive' ] = 1.0\n",
    "    y_out = y_out.reshape( (-1, 1))\n",
    "    return y_out.astype(float)\n",
    "\n",
    "y_train_ = pre_processar_saidas(y_train)\n",
    "y_test_ = pre_processar_saidas(y_test)\n",
    "\n",
    "vectorizer = CountVectorizer(stop_words='english', binary=True, max_features=500)\n",
    "X_train_ = vectorizer.fit_transform(X_train).todense().astype(float)\n",
    "X_test_ = vectorizer.transform(X_test).todense().astype(float)"
   ]
  },
  {
   "cell_type": "code",
<<<<<<< HEAD
   "execution_count": 13,
   "metadata": {},
   "outputs": [
    {
     "name": "stdout",
     "output_type": "stream",
     "text": [
      "Epoch 1/5\n",
      "24/24 [==============================] - 1s 3ms/step - loss: 1.0622 - accuracy: 0.0133\n",
      "Epoch 2/5\n",
      "24/24 [==============================] - 0s 3ms/step - loss: 0.9403 - accuracy: 0.0280\n",
      "Epoch 3/5\n",
      "24/24 [==============================] - 0s 3ms/step - loss: 0.8542 - accuracy: 0.0533\n",
      "Epoch 4/5\n",
      "24/24 [==============================] - 0s 3ms/step - loss: 0.7807 - accuracy: 0.0707\n",
      "Epoch 5/5\n",
      "24/24 [==============================] - 0s 3ms/step - loss: 0.7207 - accuracy: 0.0880\n"
     ]
    },
    {
     "data": {
      "text/plain": [
       "<keras.callbacks.History at 0x1f6a2664e50>"
      ]
     },
     "execution_count": 13,
     "metadata": {},
     "output_type": "execute_result"
    }
   ],
=======
   "execution_count": null,
   "metadata": {},
   "outputs": [],
>>>>>>> upstream/main
   "source": [
    "def base_model(vocab_size=500):\n",
    "    input_layer = Input(shape=(vocab_size,))\n",
    "    x = input_layer\n",
    "    x = Dense(1, name='classificador')(x)\n",
    "    x = Activation('tanh')(x)\n",
    "    return Model(input_layer, x)\n",
    "\n",
    "clf = base_model()\n",
    "clf.compile(loss='mean_squared_error', metrics=['accuracy'])\n",
    "clf.fit(X_train_, y_train_, epochs=5, verbose=1)\n"
   ]
  },
  {
   "cell_type": "code",
<<<<<<< HEAD
   "execution_count": 14,
   "metadata": {},
   "outputs": [
    {
     "name": "stdout",
     "output_type": "stream",
     "text": [
      "8/8 [==============================] - 0s 3ms/step - loss: 0.8463 - accuracy: 0.0480\n",
      "[0.8462597131729126, 0.04800000041723251]\n"
     ]
    }
   ],
=======
   "execution_count": null,
   "metadata": {},
   "outputs": [],
>>>>>>> upstream/main
   "source": [
    "acc = clf.evaluate(X_test_, y_test_)\n",
    "print(acc)"
   ]
  },
  {
   "cell_type": "code",
<<<<<<< HEAD
   "execution_count": 15,
=======
   "execution_count": null,
>>>>>>> upstream/main
   "metadata": {},
   "outputs": [],
   "source": [
    "y_pred = clf.predict(X_test_)\n",
    "#print(y_pred.T)"
   ]
  },
  {
   "cell_type": "markdown",
   "metadata": {},
   "source": [
    "# Exercício 3\n",
    "**Objetivo: visualizar parâmetros da rede neural**\n",
    "\n",
    "À partir do código abaixo, responda:\n",
    "\n",
    "1. Quantos parâmetros a rede neural tem? O que eles representam?\n",
    "1. Como podemos acessar os pesos de uma camada da rede?"
   ]
  },
  {
   "cell_type": "code",
<<<<<<< HEAD
   "execution_count": 16,
   "metadata": {},
   "outputs": [
    {
     "name": "stdout",
     "output_type": "stream",
     "text": [
      "Model: \"model\"\n",
      "_________________________________________________________________\n",
      " Layer (type)                Output Shape              Param #   \n",
      "=================================================================\n",
      " input_1 (InputLayer)        [(None, 500)]             0         \n",
      "                                                                 \n",
      " classificador (Dense)       (None, 1)                 501       \n",
      "                                                                 \n",
      " activation (Activation)     (None, 1)                 0         \n",
      "                                                                 \n",
      "=================================================================\n",
      "Total params: 501\n",
      "Trainable params: 501\n",
      "Non-trainable params: 0\n",
      "_________________________________________________________________\n",
      "None\n"
     ]
    }
   ],
=======
   "execution_count": null,
   "metadata": {},
   "outputs": [],
>>>>>>> upstream/main
   "source": [
    "print(clf.summary())"
   ]
  },
  {
   "cell_type": "code",
<<<<<<< HEAD
   "execution_count": 17,
=======
   "execution_count": null,
>>>>>>> upstream/main
   "metadata": {},
   "outputs": [],
   "source": [
    "print(clf.get_layer('classificador').weights[0].shape)\n",
    "print(clf.get_layer('classificador').weights[1].shape)"
   ]
  },
  {
   "cell_type": "markdown",
   "metadata": {},
   "source": [
    "# Exercício 4\n",
    "*Objetivo: monitorar o erro de treinamento e de validação em um treinamento de rede*\n",
    "\n",
    "Usualmente, o que vemos em redes neurais é que o erro em relação ao conjunto de treino cai, ao passo que o erro em relação ao conjunto de teste tende a subir. Por isso, em geral separamos uma parte do conjunto de treino a chamamos de \"validação\". Daí, monitoramos o erro no conjunto de validação.\n",
    "\n",
    "O pacotre `keras` nos permite monitorar ambos os erros (treino e validação) através do objeto `history`, que é retornado pelo método `.fit()`.\n",
    "\n",
    "1. O que significa cada um dos painéis gerados pelo código abaixo? Adicione o `plt.xlabel` e `plt.ylabel` para completar os paineis.\n",
    "1. Aumente o número de épocas de treinamento para 100. Como os erros monitorados se comportam?\n"
   ]
  },
  {
   "cell_type": "code",
<<<<<<< HEAD
   "execution_count": 18,
   "metadata": {},
   "outputs": [
    {
     "name": "stdout",
     "output_type": "stream",
     "text": [
      "Epoch 1/5\n",
      "22/22 [==============================] - 1s 16ms/step - loss: 1.0739 - accuracy: 0.0148 - val_loss: 0.9032 - val_accuracy: 0.0133\n",
      "Epoch 2/5\n",
      "22/22 [==============================] - 0s 5ms/step - loss: 0.9596 - accuracy: 0.0178 - val_loss: 0.8652 - val_accuracy: 0.0133\n",
      "Epoch 3/5\n",
      "22/22 [==============================] - 0s 5ms/step - loss: 0.8791 - accuracy: 0.0341 - val_loss: 0.8290 - val_accuracy: 0.0533\n",
      "Epoch 4/5\n",
      "22/22 [==============================] - 0s 4ms/step - loss: 0.8112 - accuracy: 0.0533 - val_loss: 0.7895 - val_accuracy: 0.0533\n",
      "Epoch 5/5\n",
      "22/22 [==============================] - 0s 5ms/step - loss: 0.7530 - accuracy: 0.0593 - val_loss: 0.7681 - val_accuracy: 0.0533\n"
     ]
    }
   ],
=======
   "execution_count": null,
   "metadata": {},
   "outputs": [],
>>>>>>> upstream/main
   "source": [
    "clf = base_model()\n",
    "clf.compile(loss='mean_squared_error', metrics=['accuracy'])\n",
    "history = clf.fit(X_train_, y_train_, epochs=5, verbose=1, validation_split=0.1)\n"
   ]
  },
  {
   "cell_type": "code",
<<<<<<< HEAD
   "execution_count": 19,
   "metadata": {},
   "outputs": [
    {
     "data": {
      "image/png": "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\n",
      "text/plain": [
       "<Figure size 1008x72 with 1 Axes>"
      ]
     },
     "metadata": {
      "needs_background": "light"
     },
     "output_type": "display_data"
    },
    {
     "data": {
      "image/png": "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\n",
      "text/plain": [
       "<Figure size 1008x72 with 1 Axes>"
      ]
     },
     "metadata": {
      "needs_background": "light"
     },
     "output_type": "display_data"
    }
   ],
=======
   "execution_count": null,
   "metadata": {},
   "outputs": [],
>>>>>>> upstream/main
   "source": [
    "plt.figure(figsize=(14,1))\n",
    "plt.plot(history.history['loss'], label='loss')\n",
    "plt.plot(history.history['val_loss'], label='val_loss')\n",
    "plt.legend()\n",
    "plt.show()\n",
    "plt.figure(figsize=(14,1))\n",
    "plt.plot(history.history['accuracy'], label='accuracy')\n",
    "plt.plot(history.history['val_accuracy'], label='val_accuracy')\n",
    "plt.legend()\n",
    "plt.show()\n"
   ]
  },
  {
   "cell_type": "markdown",
   "metadata": {},
   "source": [
    "# Exercício 5\n",
    "*Objetivo: usar a representação one-hot para as saídas da rede*\n",
    "\n",
    "Até este momento, estamos minimizando o EQM entre a saída predita e a saída \"correta\" de nossa base de dados. O EQM parece estar ligado ao erro de predição, mas só até um certo limite. Vamos agora testar outra ideia.\n",
    "\n",
    "As saídas da nossa rede serão tantas quantas as classes de nosso conjunto. Cada uma das saídas representará a probabilidade da entrada pertencer à classe correspondente, isto é, a saída $n$ significa:\n",
    "\n",
    "$$\n",
    "P(C_n | x)\n",
    "$$\n",
    "\n",
    "Para isso, vamos fazer as seguintes alterações na nossa rede:\n",
    "\n",
    "1. Teremos duas saída, e não mais uma única saída,\n",
    "1. A ativação que utilizaremos será a função `softmax`, que essencialmente força a saída a ter soma 1 ao longo de todas as probabilidades preditas,\n",
    "1. A função de *loss* será a entropia cruzada categórica, que significa que estamos minimizando a probabilidade de erro (e não mais o EQM)\n",
    "\n",
    "Como consequência, precisamos pré-processar nossos rótulos de forma que eles fiquem numa representação one-hot. Keras não nos dá um objeto para lidar com isso, mas sklearn sim:\n"
   ]
  },
  {
   "cell_type": "code",
   "execution_count": null,
   "metadata": {},
   "outputs": [],
   "source": [
    "from sklearn.preprocessing import OneHotEncoder\n",
    "\n",
    "ohe = OneHotEncoder()\n",
    "y_train_ = ohe.fit_transform(y_train.to_numpy().reshape((-1,1))).todense()\n",
    "y_test_ = ohe.transform(y_test.to_numpy().reshape((-1,1))).todense()"
   ]
  },
  {
   "cell_type": "markdown",
   "metadata": {},
   "source": [
    "O código abaixo realiza o treinamento da rede usando a função softmax e a categorical cross-entropy como medida de erro.\n",
    "\n",
    "1. Verifique quantos parâmetros existem na nova rede. O que esses parâmetros significam?\n",
    "1. Adicione código para monitorar o histórico do loss e do accuracy no conjunto de validação, e treine a rede por 50 épocas.\n",
    "1. Após, use o método `.evaluate` para avaliar a rede num conjunto de teste.\n",
    "1. Compare o desempenho deste modelo com o do regressor logístico que foi feito no começo da aula."
   ]
  },
  {
   "cell_type": "code",
   "execution_count": null,
   "metadata": {},
   "outputs": [],
   "source": [
    "def softmax_model(vocab_size=500):\n",
    "    input_layer = Input(shape=(vocab_size,))\n",
    "    x = input_layer\n",
    "    x = Dense(2, name='classificador')(x)\n",
    "    x = Activation('softmax')(x)\n",
    "    return Model(input_layer, x)\n",
    "\n",
    "clf = softmax_model()\n",
    "print(clf.summary())\n",
    "clf.compile(loss='categorical_crossentropy', metrics=['accuracy'])\n",
    "history = clf.fit(X_train_, y_train_, epochs=5, verbose=1) # validation_split=0.1\n",
    "# clf.evaluate(X_test_, y_test_)"
   ]
  },
  {
   "cell_type": "code",
   "execution_count": null,
   "metadata": {},
   "outputs": [],
   "source": []
  },
  {
   "cell_type": "code",
   "execution_count": null,
   "metadata": {},
   "outputs": [],
   "source": []
  },
  {
   "cell_type": "markdown",
   "metadata": {},
   "source": [
    "# Exercício 6\n",
    "**Objetivo: investigar e interpretar os pesos da rede neural**\n",
    "\n",
    "A camada densa da rede neural recebe como entrada um vetor-coluna $x$, aplica um vetor-coluna de pesos $w$ e depois soma um bias $b$, retornando $x^T w + b$.\n",
    "\n",
    "Em nossa rede neural, o vetor de pesos tem 2 colunas:"
   ]
  },
  {
   "cell_type": "code",
   "execution_count": null,
   "metadata": {},
   "outputs": [],
   "source": [
    "print(clf.get_layer('classificador').weights[0].shape)"
   ]
  },
  {
   "cell_type": "markdown",
   "metadata": {},
   "source": [
    "1. Por que esse vetor de pesos tem duas colunas?\n",
    "1. Qual é o significado de um peso que está na linha $i$ e na coluna $j$?\n",
    "1. Use o código abaixo para identificar o que a rede, na configuração atual, está \"olhando\" para realizar a classificação. Quais palavras mais tipicamente aparecem em reviews \"positivos\"? Quais palavras mais tipicamente aparecem em reviews \"negativos\"?"
   ]
  },
  {
   "cell_type": "code",
   "execution_count": null,
   "metadata": {},
   "outputs": [],
   "source": [
    "from tqdm import tqdm\n",
    "weights = clf.get_layer('classificador').weights[0].numpy()\n",
    "CLASSE = 0\n",
    "for n in tqdm(range(len(vectorizer.vocabulary_))):\n",
    "    tuplas = [ (weights[vectorizer.vocabulary_[i],CLASSE], i) for i in vectorizer.vocabulary_.keys() ]\n",
    "    tuplas_ordenadas = sorted(tuplas, reverse=True) # reverse=True pede uma ordenação em ordem decrescente\n",
    "    palavras = [ t[1] for t in tuplas_ordenadas ]\n",
    "    contagens = [ t[0] for t in tuplas_ordenadas ]\n"
   ]
  },
  {
   "cell_type": "code",
   "execution_count": null,
   "metadata": {},
   "outputs": [],
   "source": [
    "n_palavras = 20\n",
    "\n",
    "plt.figure(figsize=(14,1))\n",
    "eixo_x = np.arange(n_palavras)\n",
    "plt.bar(eixo_x[0:n_palavras], contagens[0:n_palavras])\n",
    "plt.xticks(eixo_x[0:n_palavras], palavras[0:n_palavras], rotation=70)\n",
    "plt.title(\"Peso das palavras\")\n",
    "plt.show()"
   ]
  },
  {
   "attachments": {},
   "cell_type": "markdown",
   "metadata": {},
   "source": []
  },
  {
   "attachments": {},
   "cell_type": "markdown",
   "metadata": {},
   "source": [
    "# Exercício 7\n",
    "*Objetivo: fazer um classificador de spam usando rede neural*\n",
    "\n",
    "Usando as estratégias que vimos até o momento, faça um classificador de spam para o spam/ham dataset, mostre suas curvas de aprendizado (treino e validação) e avalie o accuracy do resultado final em um conjunto de treino."
   ]
  },
  {
   "cell_type": "markdown",
   "metadata": {},
   "source": []
  }
 ],
 "metadata": {
  "kernelspec": {
   "display_name": "Python 3 (ipykernel)",
   "language": "python",
   "name": "python3"
  },
  "language_info": {
   "codemirror_mode": {
    "name": "ipython",
    "version": 3
   },
   "file_extension": ".py",
   "mimetype": "text/x-python",
   "name": "python",
   "nbconvert_exporter": "python",
   "pygments_lexer": "ipython3",
<<<<<<< HEAD
   "version": "3.9.12"
=======
   "version": "3.9.13"
>>>>>>> 15c14500fc19776a528a9f30c13a576759cd3e8d
  }
 },
 "nbformat": 4,
 "nbformat_minor": 2
}
