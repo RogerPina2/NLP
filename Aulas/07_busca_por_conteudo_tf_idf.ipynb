{
 "cells": [
  {
   "cell_type": "markdown",
   "metadata": {},
   "source": [
    "# TF-IDF e busca por conteúdo\n",
    "\n",
    "Nesta atividade, vamos lidar com a seguinte situação: temos um grande banco de dados com textos, e queremos encontrar qual texto é mais relevante para uma consulta. Esse problema aparece em buscadores como Google, e também em sistemas locais como ElasticSearch."
   ]
  },
  {
   "cell_type": "code",
   "execution_count": 1,
   "metadata": {},
   "outputs": [
    {
     "name": "stdout",
     "output_type": "stream",
     "text": [
      "                 Title                                               Plot\n",
      "21521       Ex Machina  Programmer Caleb Smith, who works for the domi...\n",
      "27887     Chanthupottu  Radhakrishnan (Dileep) is dysfunctionally brou...\n",
      "19258   The Black Tent  The film begins with a tank battle where blond...\n",
      "32143  Sandade Sandadi  Sandade Sandadi is a family drama based movie ...\n",
      "4978         Red Light  Bookkeeper Nick Cherney is sent to jail for em... 1000\n"
     ]
    }
   ],
   "source": [
    "import pandas as pd\n",
    "\n",
    "DATASET = 'datasets/wikipedia_movies.zip'\n",
    "df = pd.read_csv(DATASET).sample(1000)\n",
    "df = df[['Title', 'Plot']]\n",
    "print(df.head(), len(df))"
   ]
  },
  {
   "cell_type": "markdown",
   "metadata": {},
   "source": [
    "## Exercício 1\n",
    "**Objetivo: lembrar-se do que é TF e o que é DF**\n",
    "\n",
    "Identifique o Term Frequency e o Document Frequency nas asserções abaixo:\n",
    "\n",
    "1. Quanto maior o <font color='red'>DF</font>, mais comum é a palavra entre os documentos de uma coleção\n",
    "1. Quanto maior o <font color='red'>TF</font>, mais vezes a palavra é mencionada num documento específico\n",
    "1. $P(w | \\text{documento})$ -> <font color='red'>TF</font>\n",
    "1. $P(w | \\text{coleção})$ -> <font color='red'>DF</font>\n",
    "1. Ajuda a identificar a coleção da qual um documento faz parte -> <font color='red'>DF</font>\n",
    "1. Ajuda a identificar um documento dentro de uma coleção -> <font color='red'>TF</font>"
   ]
  },
  {
   "cell_type": "markdown",
   "metadata": {},
   "source": [
    "## Exercício 2\n",
    "**Objetivo: refletir sobre o uso de TF-IDF**\n",
    "\n",
    "A medida TFIDF diz o quão relevante um documento é dentro de uma coleção e em relação a uma palavra específica. Ela é calculada para um par palavra-documento como:\n",
    "\n",
    "$\\text{TFIDF = TF / DF}$\n",
    "\n",
    "Quando um documento tem um TFIDF alto em relação a uma palavra, isso significa que:\n",
    "\n",
    "1. A palavra tende a ser (comum / incomum)\n",
    "    - <font color=red>comum</font>\n",
    "\n",
    "\n",
    "2. O documento menciona a palavras (muitas / poucas) vezes\n",
    "    - <font color=red>muitas</font>\n",
    "\n",
    "Portanto, qual seria uma maneira de escrever um documento que tem intencionalmente um TFIDF alto para uma palavra?"
   ]
  },
  {
   "cell_type": "markdown",
   "metadata": {},
   "source": [
    "## Exercício 3\n",
    "**Objetivo: calcular TFIDF para documentos usando sklearn**\n",
    "\n",
    "TFIDF pode ser entendido como um processo de vetorização, semelhante a usar o CountVectorizer. Abaixo, há um código que mostra um exemplo dessa vetorização usando sklearn. \n",
    "\n",
    "1. Escolhendo um filme aleatório da coleção que carregamos, identifique o TFIDF das palavras \"zombie\", \"fungus\" e \"survival\".\n",
    "1. Identifique o filme que tem o maior TFIDF para a palavra \"zombie\"."
   ]
  },
  {
   "cell_type": "code",
   "execution_count": 2,
   "metadata": {},
   "outputs": [
    {
     "name": "stdout",
     "output_type": "stream",
     "text": [
      "0.0\n"
     ]
    }
   ],
   "source": [
    "from sklearn.feature_extraction.text import TfidfVectorizer\n",
    "import numpy as np\n",
    "\n",
    "vectorizer = TfidfVectorizer()\n",
    "tfidf = vectorizer.fit_transform(df['Plot'])\n",
    "\n",
    "j = vectorizer.vocabulary_['test']\n",
    "print(tfidf[2,j])"
   ]
  },
  {
   "cell_type": "code",
   "execution_count": 3,
   "metadata": {},
   "outputs": [
    {
     "name": "stdout",
     "output_type": "stream",
     "text": [
      "No filme Munimji\n",
      "zombie 0.0\n",
      "Não foi encontrado a palavra fungus no vocabulário\n",
      "survival 0.0\n"
     ]
    }
   ],
   "source": [
    "# 1. Escolhendo um filme aleatório da coleção que carregamos, identifique o TFIDF das palavras \"zombie\", \"fungus\" e \"survival\".\n",
    "words = ['zombie', 'fungus', 'survival']\n",
    "movie = np.random.randint(df['Title'].count())\n",
    "\n",
    "print(f'No filme {df.iloc[movie][\"Title\"]}')\n",
    "for word in words:\n",
    "    try:\n",
    "        j = vectorizer.vocabulary_[word] #indice da palavra no vocabulário\n",
    "        print(word, tfidf[movie,j]) # idx do filme, idx da palavra. Retorna o TFIDF da palavra no documento.\n",
    "    except:\n",
    "        print(f'Não foi encontrado a palavra {word} no vocabulário')"
   ]
  },
  {
   "cell_type": "code",
   "execution_count": 4,
   "metadata": {},
   "outputs": [
    {
     "name": "stdout",
     "output_type": "stream",
     "text": [
      "O filme com o maior TF-IDF para a palavra zombie é o filme Flesheater, id 156\n"
     ]
    }
   ],
   "source": [
    "# 2. Identifique o filme que tem o maior TFIDF para a palavra \"zombie\".\n",
    "\n",
    "word = 'zombie'\n",
    "word_index = vectorizer.vocabulary_['zombie']\n",
    "\n",
    "max_tfidf = -1\n",
    "max_tfidf_movie = None\n",
    "\n",
    "for movie in range(tfidf.shape[0]):\n",
    "    if tfidf[movie, word_index] > max_tfidf:\n",
    "        max_tfidf = tfidf[movie, word_index]\n",
    "        max_tfidf_movie = movie\n",
    "\n",
    "if max_tfidf_movie is not None:\n",
    "    print(f'O filme com o maior TF-IDF para a palavra {word} é o filme {df.iloc[max_tfidf_movie][\"Title\"]}, id {max_tfidf_movie}')\n",
    "else:\n",
    "    print(f'')"
   ]
  },
  {
   "cell_type": "markdown",
   "metadata": {},
   "source": [
    "## Exercício 4\n",
    "**Objetivo: implementar uma busca por vários termos simultaneamente**\n",
    "\n",
    "Uma possível maneira de implementar uma busca por vários termos é somar o TFIDF de todas as palavras da query para cada documento da coleção, e então retornar o documento que tem a maior soma. Por exemplo, numa busca por \"zombie fungus survival\" deveríamos somar, para cada documento, o TFIDF de \"zombie\", de \"fungus\" e de \"survival\" e então ordenar o resultado.\n",
    "\n",
    "1. Escreva código que implemente uma busca na base de dados de filmes à partir de uma query específica.\n",
    "1. Qual é a complexidade ($O(...)$) da sua busca?"
   ]
  },
  {
   "cell_type": "code",
   "execution_count": 5,
   "metadata": {
    "scrolled": true
   },
   "outputs": [
    {
     "name": "stdout",
     "output_type": "stream",
     "text": [
      "Resultados da busca por 'zombie fungus survival':\n",
      "Flesheater\n",
      "Warm Bodies\n",
      "Being Caribou\n",
      "Maniac\n",
      "Coming Home\n",
      " Hounds of Love\n",
      "Monster from Green Hell\n",
      "The Story of G.I. Joe\n",
      "Blackenstein\n",
      "Mallu Singh (മല്ലൂസിംഗ്)\n"
     ]
    }
   ],
   "source": [
    "import numpy as np\n",
    "query = \"zombie fungus survival\"\n",
    "\n",
    "words = query.split()\n",
    "\n",
    "# Calcula a soma do TF-IDF de cada termo para cada documento\n",
    "scores = tfidf[:, [vectorizer.vocabulary_.get(word, -1) for word in words]].sum(axis=1)\n",
    "\n",
    "# Ordena os documentos pelo score total decrescente\n",
    "results = pd.DataFrame({'Title': df['Title'].to_numpy(), 'Score': list(scores)}).sort_values('Score', ascending=False)\n",
    "\n",
    "# Imprime os títulos dos filmes encontrados\n",
    "print(f\"Resultados da busca por '{query}':\")\n",
    "for title in results['Title'].tolist()[:10]:\n",
    "    print(title)"
   ]
  },
  {
   "cell_type": "code",
   "execution_count": 6,
   "metadata": {},
   "outputs": [
    {
     "name": "stdout",
     "output_type": "stream",
     "text": [
      "O filme com maior TF-IDF para busca \"zombie fungus survival\", é: Flesheater com valor: 0.19678560774236914\n"
     ]
    }
   ],
   "source": [
    "# Outra opção sem usar o DataFrame\n",
    "results = {title:score.item() for title,score in zip(df['Title'].to_numpy(), list(scores))}\n",
    "\n",
    "max_movie = max(results, key=results.get)\n",
    "max_value = max(results.values())\n",
    "print(f'O filme com maior TF-IDF para busca \"{query}\", é: {max_movie} com valor: {max_value}')"
   ]
  },
  {
   "cell_type": "markdown",
   "metadata": {},
   "source": [
    "## Exercício 5\n",
    "**Objetivo: implementar um índice invertido**\n",
    "\n",
    "Você provavelmente reparou (talvez não tenha reparado, e é tudo bem) que, para fazer a busca, até agora, teve que varrer todos os documentos da sua coleção. Isso provavelmente levaria algum tempo, especialmente quando a coleção começa a aumentar. Para evitar ter que varrer todos os documentos da coleção, podemos implementar uma técnica chamada *índice invertido*. A ideia do índice invertido é usar um dicionário cujas chaves são as palavras do vocabulário e cujo conteúdo é uma lista de documentos que contém essa palavra, possivelmente acompanhados do TFIDF correspondente. Por exemplo:"
   ]
  },
  {
   "cell_type": "code",
   "execution_count": 7,
   "metadata": {},
   "outputs": [
    {
     "data": {
      "text/plain": [
       "{'documento_1': 0.5, 'documento_2': 0.7, 'documento_3': 0.6}"
      ]
     },
     "execution_count": 7,
     "metadata": {},
     "output_type": "execute_result"
    }
   ],
   "source": [
    "indice = { 'palavra_1' : {'documento_1': 0.5, 'documento_2': 0.1, 'documento_3': 0.6}, \n",
    "          'palavra_2' : {'documento_2': 0.6},\n",
    "         'palavra_3' : {'documento_2':0.3, 'documento_3': 0.2}\n",
    "         }\n",
    "\n",
    "def buscar(palavras, indice):\n",
    "    assert type(palavras)==list\n",
    "    resultado = dict()\n",
    "    for p in palavras:\n",
    "        if p in indice.keys():\n",
    "            for documento in indice[p].keys():\n",
    "                if documento not in resultado.keys():\n",
    "                    resultado[documento] = indice[p][documento]\n",
    "                else:\n",
    "                    resultado[documento] += indice[p][documento]\n",
    "                    \n",
    "    return resultado\n",
    "\n",
    "r = buscar(['palavra_1', 'palavra_2'], indice)\n",
    "r"
   ]
  },
  {
   "cell_type": "markdown",
   "metadata": {},
   "source": [
    "1. Adicione uma nova palavra ao índice e escolha seu TFIDF. Realize uma nova busca e verifique o resultado.\n",
    "1. Escreva uma função que ordena o resultado e retorna apenas `N` documentos mais relevantes para sua busca.\n",
    "1. Incremente sua biblioteca de forma que ela passe a receber uma string como entrada (representando a query) e retorne os `N` documentos mais relevantes (`N` pode ser definido arbitrariamente)."
   ]
  },
  {
   "cell_type": "code",
   "execution_count": 8,
   "metadata": {},
   "outputs": [
    {
     "data": {
      "text/plain": [
       "[('documento_2', 0.7), ('documento_3', 0.6)]"
      ]
     },
     "execution_count": 8,
     "metadata": {},
     "output_type": "execute_result"
    }
   ],
   "source": [
    "# 2. Escreva uma função que ordena o resultado e retorna apenas N documentos mais relevantes para sua busca.\n",
    "def n_relevantes(resultado, n):\n",
    "    return sorted(resultado.items(), key=lambda x: x[1], reverse=True)[:n]\n",
    "\n",
    "n_relevantes(r,2)"
   ]
  },
  {
   "cell_type": "code",
   "execution_count": 9,
   "metadata": {},
   "outputs": [
    {
     "data": {
      "text/plain": [
       "[('documento_2', 0.7), ('documento_3', 0.6)]"
      ]
     },
     "execution_count": 9,
     "metadata": {},
     "output_type": "execute_result"
    }
   ],
   "source": [
    "# 3. Incremente sua biblioteca de forma que ela passe a receber uma string como entrada (representando a query) e retorne \n",
    "# os N documentos mais relevantes (N pode ser definido arbitrariamente).\n",
    "\n",
    "def n_relevantes_query(query, indice, n=2):\n",
    "    palavras = query.split()\n",
    "    busca = buscar(palavras, indice)\n",
    "    rel = n_relevantes(busca, n)\n",
    "    return rel\n",
    "\n",
    "n_relevantes_query('palavra_1 palavra_2', indice)"
   ]
  },
  {
   "cell_type": "markdown",
   "metadata": {},
   "source": [
    "## Exercício 6\n",
    "**Objetivo: implementar um buscador de filmes**\n",
    "\n",
    "Implemente uma função que recebe como entrada uma query e retorna os títulos e enredos dos 5 filmes mais relevantes para aquela query. Se precisar, use mais parâmetros ou variáveis globais. Teste a sua função e veja se você concorda com os resultados, incluindo se você consegue encontrar seus filmes favoritos e se consegue alguma recomendação relevante a um filme novo."
   ]
  },
  {
   "cell_type": "markdown",
   "metadata": {},
   "source": []
  },
  {
   "cell_type": "code",
   "execution_count": 10,
   "metadata": {},
   "outputs": [
    {
     "data": {
      "text/plain": [
       "1000"
      ]
     },
     "execution_count": 10,
     "metadata": {},
     "output_type": "execute_result"
    }
   ],
   "source": [
    "tfidf.shape[0]"
   ]
  },
  {
   "cell_type": "code",
   "execution_count": 239,
   "metadata": {},
   "outputs": [
    {
     "name": "stderr",
     "output_type": "stream",
     "text": [
      "100%|████████████████████████████████████████████████████████████████████████████| 24678/24678 [12:03<00:00, 34.11it/s]\n"
     ]
    }
   ],
   "source": [
    "from tqdm import tqdm\n",
    "#indice_filmes = {word:{i:tfidf[i,word_idx] for i in range(tfidf.shape[0])} for word, word_idx in tqdm(vectorizer.vocabulary_.items())}\n",
    "\n",
    "indice_filmes = {}\n",
    "for word, word_idx in tqdm(vectorizer.vocabulary_.items()):\n",
    "    indice_filmes[word] = {}\n",
    "    for i in range(tfidf.shape[0]):\n",
    "        indice_filmes[word][i] = tfidf[i,word_idx]"
   ]
  },
  {
   "cell_type": "code",
   "execution_count": 240,
   "metadata": {},
   "outputs": [],
   "source": [
    "def query_movies(query, indice):\n",
    "    result = n_relevantes_query(query, indice, n=5)\n",
    "    \n",
    "    for i in result:\n",
    "        print(df.iloc[i[0]]['Title'])\n",
    "        print(df.iloc[i[0]]['Plot'])\n",
    "        print('\\n')"
   ]
  },
  {
   "cell_type": "code",
   "execution_count": 289,
   "metadata": {},
   "outputs": [
    {
     "name": "stdout",
     "output_type": "stream",
     "text": [
      "Voodoo Man\n",
      "Nicholas (George Zucco) runs a filling station in the sticks. In reality, he is helping Dr. Richard Marlowe (Bela Lugosi) capture comely young ladies so he can transfer their life essences to his long-dead wife. Also assisting is Toby (John Carradine), who lovingly shepherds the left-over zombie girls and pounds on bongos during voodoo ceremonies. The hero is a Hollywood screenwriter who, at the end of the picture, turns the experience into a script titled \"Voodoo Man\". When his producer asks who should star in it, the hero suggests ... Bela Lugosi.\n",
      "\n",
      "\n",
      "The Precipice Game\n",
      "Liu Chenchen, a free-spirited young woman, rebels against her wealthy family and elopes with her boyfriend to join a cruise-bond treasure hunt. But what began as an innocent game with promises of great reward soon turns into a battle for survival when the contestants are thrown into a mysterious world of intrigue and chaos in the middle of the sea. Liu relies only on her wits and her new friends to survive, all the while unmasking foes and learning that nothing is what it seems. But as her companions are attacked one by one, Liu must do everything she can to escape.[3]\n",
      "\n",
      "\n",
      "The Martian\n",
      "In 2035, the crew of the Ares III mission to Mars is exploring Acidalia Planitia on Martian solar day (sol) 18 of their 31-sol expedition. A strong dust storm threatens to topple their Mars Ascent Vehicle (MAV), forcing them to abort their mission. During the evacuation, astronaut Mark Watney is struck by debris and lost in the storm; the last telemetry from his suit's biomonitor indicates no signs of life. With Watney believed dead, the storm worsening by the second, and the MAV on the verge of toppling over, mission commander Melissa Lewis orders the crew to take off and return to their orbiting vessel, the Hermes.\r\n",
      "Watney awakens after the storm to a low oxygen warning and makes his way to the crew's surface base of operations and habitat, or \"Hab\". He removes the piece of antenna that destroyed his suit's biomonitor and lodged in his torso by performing self-surgery. He begins a video diary and realizes that his only chance of rescue is to rendezvous with the Ares IV crew at the Schiaparelli crater, 3,200 kilometres (2,000 mi) away, in four years. His immediate concern is there will not be enough food to survive that long. Watney, being a botanist, improvises a farm inside the Hab utilizing Martian soil fertilized with human feces, water produced by extracting hydrogen from leftover rocket fuel, and potatoes intended for Thanksgiving dinner. He also begins to modify the only functional rover for longer journeys in preparation for the long-distance travel.\r\n",
      "Back on Earth, NASA holds a funeral for him. While reviewing satellite photos of Mars, satellite planner Mindy Park sees evidence of Watney's activities and realizes he has survived. NASA administrator Teddy Sanders has public relations director Annie Montrose and mission director Vincent Kapoor release the news. Despite the objections of the Hermes flight director Mitch Henderson, Sanders decides not to inform the Ares III crew, believing it would distract them.\r\n",
      "Watney takes the rover to retrieve the nearby Pathfinder probe, which fell silent in 1997. Using the Pathfinder's camera, he establishes rudimentary communication with Earth, first using simple signs, and then using hexadecimals. NASA instructs Watney to partially modify the rover's code to link with Pathfinder so they can communicate via text. Watney becomes angry when he learns that the crew has not been told of his survival, and Sanders reluctantly lets Henderson finally inform them.\r\n",
      "Henderson and Jet Propulsion Laboratory (JPL) director Bruce Ng prepare a space probe to deliver enough food to last Watney until Ares IV's arrival. When the Hab's airlock malfunctions due to a small puncture, it destroys Watney's crops. Sanders orders the team to speed up the supply mission with the Iris probe by skipping the safety inspections. However, an oversight causes the destabilization and subsequent explosion of the rocket 40 seconds after liftoff, prompting Watney to think about his seemingly inevitable death.\r\n",
      "The China National Space Administration offers NASA the Taiyang Shen, a classified booster rocket that can carry a payload to Mars. Meanwhile, JPL astrodynamicist Rich Purnell devises a trajectory to divert the Hermes back to Mars for a rescue more than two years sooner, using the Chinese booster to resupply the Hermes for an additional eighteen months. Sanders rejects the plan, refusing to risk the crew, but Henderson surreptitiously sends Purnell's course correction instructions to the Hermes. The crew, knowing that going against orders will likely end their careers as astronauts, unanimously vote for the plan, and NASA — powerless to stop them — resupplies the Hermes as it uses Earth's gravity to slingshot back to Mars.\r\n",
      "Watney begins the 90-sol journey to Schiaparelli and the pre-positioned Ares IV MAV. To rendezvous with Hermes, Watney removes many components from the MAV, including the nose cone, to lighten it, replacing it with a piece of the Hab's canvas. As the MAV fails to reach the required speed and altitude, Commander Lewis is forced to use maneuvering thrusters to change course and explosive decompression of Hermes's internal atmosphere to reduce speed. When that fails to bring the Hermes close enough to Watney, Lewis uses a Manned Maneuvering Unit, but still cannot reach Watney. Watney pierces the glove of his pressure suit and uses the escaping air to propel himself towards Lewis, effectively reuniting him with his crew after being alone for 560 sols on Mars.\r\n",
      "After returning to Earth, Watney becomes a survival instructor for astronaut candidates. Five years later, on the occasion of the Ares V mission launch, those involved in Watney's rescue have begun new lives.\n",
      "\n",
      "\n",
      "Minnaram\n",
      "Bobby (Mohanlal), orphaned at a young age, is brought up as his own son by his uncle, Retd. I.G Matthews (Thilakan). He is betrothed to Chackochan's (K. P. Ummer) daughter, Tina (Anju). However, his old flame from college, Nina (Shobhana), turns up with a toddler allegedly fathered by Bobby. He denies this vehemently and goes to great lengths to prove her wrong, whilst keeping this under wraps from his fiancée. Despite a slew of hilarious events involving Unnunni (Jagathi Sreekumar) and his paranoia about his wife Daisy (Subhashini) seeming to have an illicit affair with Bobby, Bobby is unable to prove his claims that the child is not a result of his relationship with Nina in the past. In the meantime, Nina develops a strong bond among all the members in Bobby's family, except Bobby himself.\r\n",
      "Eventually, having discovered the truth that Bobby is married prior to Nina, Chackochan calls off the wedding, and publicly humiliates Matthews for the dishonesty. With nothing left to lose, Bobby is prepared to accept Nina as his wife, but Nina adamantly refusues. She divulges the truth about the child to Bobby's cousin, Baby (Venu Nagavalli). During the days of his straining marriage, Baby had an affair with Nina's sister, who later died during childbirth, thus leaving Nina in the dire situation to deliver the child in her father's care. Initially, Baby refuses, for the fear of the sordid fact tearing apart his married life. But Matthews overhears the conversation and feels sorry for Bobby, who is now proven innocent.\r\n",
      "In the climax, Nina suffers a fainting episode, whereupon it is revealed to Bobby and his family by Nina's brother, Dr. Romy (Lalu Alex) that she is terminally ill with polycythemia vera, just like her deceased sister. Nina wanted to ensure that her niece would not be orphaned. Bobby's family stand together for Nina's good health, despite the waning odds of her survival. Nina is relieved when she realizes that her niece is accepted into the family of her rightful father. But her emotional surge puts her into a critical condition, leaving the family in mental agony.\r\n",
      "Bobby races against the clock to get the medicine radioactive phosphorus to save his beloved from the acute relapse, but despite his best efforts and everybody's prayers, he cannot reach her in time to save her.\n",
      "\n",
      "\n",
      "The 5th Wave\n",
      "Ohio high-schooler Cassie Sullivan, armed with an M4 carbine, emerges from the woods to raid an abandoned gas station. Upon entering, she hears a male voice calling for help. She finds a wounded man, who points a gun at her, but they each put their weapons down. His other hand is under his jacket and as he takes it out, she sees a glint of metal and kills him. He was holding a Christian cross and the screen cuts to black to show her backstory.\r\n",
      "A city-sized alien spaceship is circling Earth, containing extraterrestrials referred to as \"The Others\". Ten days later, The Others unleash their 1st Wave, an electromagnetic pulse that permanently destroys all electrical power. The 2nd Wave has The Others manipulate the planet's geology and fault lines, causing earthquakes and megatsunamis that destroy coastal cities and islands. For the 3rd Wave, The Others weaponize a strain of avian flu virus, with birds carrying the infectant across the planet. Cassie's mother is one of the casualties.\r\n",
      "Cassie, her father and her younger brother Sam, find a refugee camp in the woods with roughly 300 survivors. A few days later, an army unit with working vehicles rolls into the camp. The unit's commander, Colonel Vosch, claims there is an imminent threat of a 4th Wave and they will take the children to safety at Wright-Patterson Air Force Base, intending to bring the buses back to retrieve the adults. Cassie is separated from Sam, and witnesses the army massacring all the adults, her father included.\r\n",
      "Cassie scavenges her way toward the base, but is shot in the leg by an unseen shooter and passes out. About a week later, she wakes up in the farmhouse of a man named Evan Walker, who saved her. Cassie leaves towards the base with Evan, but learns that he is an Other, sent years ago as a sleeper agent and merged his consciousness into a human host. The sleepers roam their designated zones, killing human survivors. Evan admits his humanity was reactivated when he saw her, disagrees with the invasion and lets her leave. He warns that Colonel Vosch and the military are possessed by the consciousness of individual Others.\r\n",
      "At the base, the military have used deception and technology to convince the rescued children that the humans outside the base have been possessed. They provide military training to the children, forming them into squads to go on kill missions outside the base. Sam has been placed into a squad led by Ben, a boy Cassie had a crush on, along with Ringer, a tough teenage girl, Dumbo and Teacup. While out on a kill mission, Ringer removes her military implant, causing her to register as an Other-possessed human on the squad's scopes. The squad deduces the plan to have them kill real unpossessed humans, making them the 5th Wave. Ben sends his squad into the woods and returns to base, claiming his squad was killed, for the purpose of retrieving Sam, who was left behind.\r\n",
      "Ben confronts Colonel Vosch about child warriors being the 5th Wave and Cassie kills Sergeant Reznik during her one-on-one indoctrination spiel. Ben and Cassie find each other and leave to find Sam. Evan sets off numerous bombs and advises them to quickly find Sam before the destruction of the entire facility. Colonel Vosch and the surviving military evacuate with the human children by military aircraft. Cassie, Ben and Sam escape, with help from Ringer, just as Evan completes the destruction of the base. Ben's squad is reunited and Cassie ponders the strength of hope as humanity's driving force for survival.\n",
      "\n",
      "\n"
     ]
    }
   ],
   "source": [
    "query = 'zombie fungus survival'\n",
    "query_movies(query, indice_filmes)"
   ]
  },
  {
   "cell_type": "markdown",
   "metadata": {},
   "source": [
    "## Exercício 7\n",
    "**Objetivo: identificar palavras-chave usando TFIDF**\n",
    "\n",
    "Uma outra aplicação de TFIDF é encontrar palavras-chave, isto é, palavras que diferenciam um documento do restante dos documentos de sua coleção.\n",
    "\n",
    "Incremente seu buscador de forma que, além do título e enredo, ele também escolha as algumas palavras (escolha quantas!) mais relevantes de cada documento e as imprima como keywords."
   ]
  },
  {
   "cell_type": "code",
   "execution_count": 329,
   "metadata": {},
   "outputs": [],
   "source": [
    "def search_keywords(index):\n",
    "    # Obtem os índices das N palavras com maior peso no documento, em ordem decrescente.\n",
    "    keywords_list = np.argsort(tfidf[index,:].toarray())[0][::-1][:5]\n",
    "\n",
    "    # Recuperar as palavras correspondentes aos índices encontrados \n",
    "    vocabulary = vectorizer.vocabulary_\n",
    "    keywords = [list(vocabulary.keys())[list(vocabulary.values()).index(i)] for i in keywords_list]        \n",
    "    return keywords"
   ]
  },
  {
   "cell_type": "code",
   "execution_count": 330,
   "metadata": {},
   "outputs": [],
   "source": [
    "def query_movies(query, indice):\n",
    "    result = n_relevantes_query(query, indice, n=5)\n",
    "    \n",
    "    for i in result:\n",
    "        print(df.iloc[i[0]]['Title'], '-', i[0])\n",
    "        print(f'Keywords: {search_keywords(i)}')\n",
    "        print(df.iloc[i[0]]['Plot'])\n",
    "        print('\\n')"
   ]
  },
  {
   "cell_type": "code",
   "execution_count": 335,
   "metadata": {},
   "outputs": [
    {
     "name": "stdout",
     "output_type": "stream",
     "text": [
      "Hands Up - 361\n",
      "Keywords: ['nagababu', 'cameo', 'fall', 'brahmanandam', 'heels']\n",
      "Cops Nagababu and Brahmanandam fall for their newly transferred senior police official. In an interesting plot sequence, they fall head over heels in love. While fighting for love and against the goons, they learn she is married (to Chiranjeevi in cameo).\n",
      "\n",
      "\n",
      "Nee Kosam - 841\n",
      "Keywords: ['ravi', 'sasi', 'love', 'is', 'maheswari']\n",
      "Sasirekha (Maheswari) is the daughter of a rich father (Jayaprakash Reddy), who is a strict disciplinarian and hates any kind of love affair. Ravi (Ravi Teja), an orphan falls in love with Sasi and she also slowly develops feelings for Ravi. One day Ravi meets Sasi’s father in the outskirts of the city and tells him all about his love. However, he is accidentally killed by Ravi in a scuffle. Sasi soon finds out that the real culprit is Ravi. Infuriated, she breaks-up with him. Ravi, unable to bear the rejection, jumps from a hill. He escapes death, only to be told by the doctors that he is disabled and might cure in future if someone takes care of him. In the climax sasi decides to stay with ravi who is nothing but a vegetable now, stating that what ever he did was just because of his love for her and she still is in love with him.\n",
      "\n",
      "\n",
      "Moscow Nights - 127\n",
      "Keywords: ['ignatoff', 'russian', 'nurse', 'wounded', 'captain']\n",
      "During the First World War a wounded Russian officer Captain Ignatoff falls in love with his nurse.[1][2]\n",
      "\n",
      "\n",
      "Blazing Continent - 218\n",
      "Keywords: ['australia', 'tokyo', 'artist', 'japanese', 'living']\n",
      "A young artist leaves Tokyo for Australia. He falls in love with a Japanese girl living in Australia.\n",
      "\n",
      "\n",
      "Dangerous Corner - 23\n",
      "Keywords: ['robert', 'ann', 'martin', 'bonds', 'betty']\n",
      "Robert Chatfield is having dinner with his wife, Freda, and four of their friends: Charles Stanton, his business partner; Ann Peel, who works at their company; and Robert's sister, Betty, and her husband, Gordon, who is another partner in the firm. As the dinner winds down, the subject of Robert's brother's suicide the prior year comes up. Robert's brother, Martin, had died from a gunshot wound, which an investigation had ruled a suicide, brought on by his guilt over stealing some bonds from their company, of which he was also a partner. But now, during their dinner conversation, certain comments made by his companions don't add up in Robert's mind.\r\n",
      "As he begins to question them, Freda confesses that she had been secretly in love with Martin, and Ann reveals that she has been holding a torch for Robert for years. It was this unspoken love which caused Ann to not speak honestly at the hearing into Martin's death, for she thought that it might have been Robert, not Martin, who stole the bonds. Betty announces that she has been in love with Charles, who then confesses to having stolen the bonds, in order to satisfy a debt owed by Betty, even though he has been in love with Ann.\r\n",
      "Ann then confesses that Martin did not commit suicide as everyone thought, but that she accidentally shot him. Unable to deal with the guilt of all the confessions, Robert leaves the room and shoots himself. After a moment, time returns to the moment that the conversation started after dinner, but this time Charles begins by declaring his love for Ann and asking for her hand in marriage, who accepts.\n",
      "\n",
      "\n"
     ]
    }
   ],
   "source": [
    "query = 'Family love'\n",
    "query_movies(query, indice_filmes)"
   ]
  },
  {
   "cell_type": "markdown",
   "metadata": {},
   "source": []
  },
  {
   "cell_type": "markdown",
   "metadata": {},
   "source": [
    "## Exercício 8\n",
    "**Objetivo: encontrar documentos semelhantes usando TFIDF**\n",
    "\n",
    "Uma maneira de encontrar documentos semelhantes em uma coleção de textos é assumir que o texto do documento é uma query, e então realizar a busca normalmente. O problema disso é que provavelmente teríamos textos muito longos e a query ficaria muito carregada. Para solucionar isso, poderíamos usar apenas as palavras mais relevantes de um documento como query. Implemente uma função que recebe o índice (ou outro identificador único) de um documento de nosso banco de dados e então encontra 5 documentos semelhantes a ele."
   ]
  },
  {
   "cell_type": "code",
   "execution_count": 332,
   "metadata": {},
   "outputs": [],
   "source": [
    "def search_similar(index, indice):\n",
    "    query = ' '.join(search_keywords(index))\n",
    "    return query_movies(query, indice_filmes)"
   ]
  },
  {
   "cell_type": "code",
   "execution_count": 336,
   "metadata": {},
   "outputs": [
    {
     "name": "stdout",
     "output_type": "stream",
     "text": [
      "Dangerous Corner - 23\n",
      "Keywords: ['robert', 'ann', 'martin', 'bonds', 'betty']\n",
      "Robert Chatfield is having dinner with his wife, Freda, and four of their friends: Charles Stanton, his business partner; Ann Peel, who works at their company; and Robert's sister, Betty, and her husband, Gordon, who is another partner in the firm. As the dinner winds down, the subject of Robert's brother's suicide the prior year comes up. Robert's brother, Martin, had died from a gunshot wound, which an investigation had ruled a suicide, brought on by his guilt over stealing some bonds from their company, of which he was also a partner. But now, during their dinner conversation, certain comments made by his companions don't add up in Robert's mind.\r\n",
      "As he begins to question them, Freda confesses that she had been secretly in love with Martin, and Ann reveals that she has been holding a torch for Robert for years. It was this unspoken love which caused Ann to not speak honestly at the hearing into Martin's death, for she thought that it might have been Robert, not Martin, who stole the bonds. Betty announces that she has been in love with Charles, who then confesses to having stolen the bonds, in order to satisfy a debt owed by Betty, even though he has been in love with Ann.\r\n",
      "Ann then confesses that Martin did not commit suicide as everyone thought, but that she accidentally shot him. Unable to deal with the guilt of all the confessions, Robert leaves the room and shoots himself. After a moment, time returns to the moment that the conversation started after dinner, but this time Charles begins by declaring his love for Ann and asking for her hand in marriage, who accepts.\n",
      "\n",
      "\n",
      "Our Dancing Daughters - 257\n",
      "Keywords: ['ann', 'diana', 'ben', 'bea', 'her']\n",
      "\"Dangerous Diana\" Medford (Crawford) is outwardly flamboyant and popular but inwardly virtuous and idealistic, patronizing her parents by telling them not to stay out late. Her friend Ann chases boys for their money and is as amoral as her mother.\r\n",
      "Diana and Ann are both attracted to Ben Blaine (Brown). He takes Diana's flirtatious behavior with other boys as a sign of lack of interest in him and marries Ann, who has lied about her virtues. Bea, a mutual friend of Diana and Ann, also meets and marries a wealthy suitor who loves her but is haunted by her past.\r\n",
      "Diana becomes distraught for a while about the marriage of her friends with questionable pasts. She decides to go away and Bea throws a party for her, which Ben declined to attend and made Ann decline as well. The same evening Ann hopes to meet up with her lover, Freddie, telling her husband she is going to see her sick mom. When her mom calls and Ben realizes Ann has lied to him yet again they get into an argument and Ann storms out to meet Freddie.\r\n",
      "Now alone, Ben decides to stop by the party where he and Diana realize their love for each other. Meanwhile, a drunk Ann follows Freddie into the party only to find Ben and Diana. She makes a drunken scene in which both Diana and Ben leave the party declaring their love but saying their goodbyes to each other.\r\n",
      "Bea's husband comes home to find Bea trying to get a drunken Ann home. As Ann is mocking cleaning ladies and her life (as her mom did), she stumbles and falls to her death down a flight of stairs. Headlines show Diana returning home after a lengthy time away and she and Ben are free to unite.\n",
      "\n",
      "\n",
      "Four Daughters - 99\n",
      "Keywords: ['felix', 'ann', 'mickey', 'ernest', 'and']\n",
      "The Lemp sisters, Emma (Gale Page), Thea (Lola Lane), Kay (Rosemary Lane), and Ann (Priscilla Lane) are prodigies in a musical family headed by their father, Adam (Claude Rains). The Lemps also run a boarding house, and among the tenants is Felix Deitz (Jeffrey Lynn), a young composer whom the four daughters want to attract.\r\n",
      "Emma, the oldest daughter, is the object of affection of a neighbor, Ernest (Dick Foran), but she rebuffs his attentions. Thea, a pianist and the second eldest, is courted by wealthy Ben Crowley (Frank McHugh), another neighbor, but she is not sure she loves him. Kay, the third daughter, is a talented singer and has a chance at a music school scholarship but doesn't want to leave home. The youngest daughter is Ann, a violinist. Mickey (John Garfield), an orchestral arranger and friend of Felix, falls for Ann, but Felix also has had his eyes on her and proposes marriage.\r\n",
      "An hour before Ann and Felix are to marry, Mickey tells Ann that Emma is in love with Felix. Ann then observes Emma's distress after parting from Felix for the ceremony, and decides to step out of their way. She leaves and sends a telegram the wedding participants get, telling them she has eloped with Mickey. Ernest is prominent in calming people.\r\n",
      "Four months later, Ann and Mickey are living a hard life in New York, professing love for each other but penniless and unhappy. Mickey is invited to form a band and go to South America with some fellow-musicians, but cannot afford passage, and Ann does not want to go.\r\n",
      "The family meets at the Lemps' house for Christmas, except Kay, who is singing on the radio that night. Emma has not gotten together with Felix, but is now engaged to Ernest; she tells Ann that she had thought she was in love with Felix and would have kept on thinking so and spoiled her life if Ann had married him, but she was awakened to Ernest's qualities when he took charge at the abortive wedding. Felix is alone and unhappy, though he has a good conducting job awaiting him in Seattle. Mickey observes all this, and feels like an outsider and a failure. When he and Ben go to see Felix off at the train station in a snowstorm, he drives Ben's car and drops Ben off for an errand; as the train pulls out, Felix presses some money on him and tells him to use it for Ann, and Mickey, realizing that Felix and Ann really belong together, speeds through the snow until he crashes the car. The family comes to the hospital, and he dies with Ann at his bedside.\r\n",
      "A while later, all four daughters are home making music with their loved ones when Felix returns, and he and Ann renew their love.\n",
      "\n",
      "\n",
      "My Favorite Martian - 442\n",
      "Keywords: ['tim', 'martin', 'lizzie', 'coleye', 'martian']\n",
      "News producer Tim O'Hara (Daniels) is fired for unwillingly \"compromising\" his boss's daughter, reporter Brace Channing (Elizabeth Hurley), during a live broadcast of the first Space Shuttle launch from Vandenberg Air Force Base. His assistant, Lizzie (Daryl Hannah), tries to comfort him, and she apparently has a crush on him. Later, Tim witnesses a small Martian spacecraft crash landing. Realizing his chance to deliver a story that will \"rock the Earth\", he brings Brace to show her the ship, but by the time he reaches the crash site, the ship has been shrunken to toy size. Nearby, its only occupant (Lloyd) hides in the bushes. Tim takes the now-shrunken spaceship home with him, and the Martian follows him to retrieve it. After a confrontation, Tim is knocked out and the Martian disguises himself to look like Tim and ends up kissing Lizzie when she visits.\r\n",
      "When Tim confronts the Martian the next morning, he finds out that a small device called an \"electron accelerator\", which powers the control systems of the ship, is damaged beyond repair and the Martian needs Tim's help to find a replacement. The Martian takes the name \"Uncle Martin\" and explores the city with Tim, unaware that they are being watched by SETI, which discovered DNA left by Martin while hiding out at Tim's. While exploring Tim's neighborhood, Martin tells him about a friend of his named \"Neenert\", one of his planet's most gifted Martian scientists, who came to Earth in 1964, but never came back. Brace is captured by the SETI gang and is interrogated.\r\n",
      "Tim secretly tapes Martin and his sentient suit, Zoot, with hidden cameras to back up his story and impress the TV station staff, but he eventually decides not to reveal the tapes, as he has become fond of Martin. Meanwhile, Martin and Zoot discover a subsystem of the ship called the Interstellar Safety System, which is prepared to self-destruct. Brace discovers the footage of Martin in his Martian form and she steals the tape. Lizzie shows up at Tim's house to discover Brace stealing the tape. Thinking that Tim cheated on her, Lizzie rejects him and storms out, only to be distracted by the now-full-sized spaceship, and is pulled into the cockpit by Zoot.\r\n",
      "Martin and Tim go after the Martian evidence, shrinking the ship (along with Zoot and Lizzie) and racing down to the station, where Tim admits to Martin that he has been videotaping him, but says he likes Martin and apologizes. Accepting Tim's apology, Martin subdues Brace, then disguises himself as her so he can take her place on the news, and Martin's alien form is almost exposed during the broadcast, which is carefully watched by Elliot Coleye (Shawn), head of SETI. As footage from another news report is aired, Tim and Martin escape the station, pursued by SETI through the sewers in Tim's car, shrunken using Martin's device. They eventually end up in the hands of Coleye, who takes them back to SETI for investigation.\r\n",
      "At the lab, Tim tricks one of the scientists into growing Martin's ship to normal size, breaching security, and allowing Lizzie and Zoot to escape. However, the trio's escape is blocked by two security guards, one of whom shoots Zoot. With the help of a \"nerplex\", a piece of alien gum that can transform anyone into another life form, Lizzie transforms into a hideous monster from \"Veenox 7\". She defeats them, then spits out the nerplex and turns back into a human.\r\n",
      "The three eventually succeed in locating Martin, who has undergone surgery involving the removal of his antennae and presumably killing him. When Martin and Zoot reunite, he comes back to life and wakes up. They then escape SETI headquarters, and Tim and Lizzie prepare to bid farewell to Martin, installing a car alternator in place of the ship's damaged electron accelerator. However, they are interrupted by Coleye, who attempts to stop him from escaping, saying that he will stop at nothing to prove the existence of aliens, even if it means killing Martin. A SETI official named Armitan, revealed to be Martin's old friend Neenert (Walston), saves Martin by destroying Coleye's gun and tossing Coleye wildly in the air. After a reunion, Martin and Neenert fly back to Mars on their ship, much to Coleye's dismay.\r\n",
      "Eventually, Coleye catches hold of the piece of nerplex left by Neenert. Believing that he can still prove his cause, Coleye chews on it, and he is turned into an alien. Laughing, Coleye accidentally swallows the gum, which presumably leaves his transformation permanent. He ends up caught and tranquilized by his own organization, as Tim and Lizzie escape the scene.\r\n",
      "In the end, Martin and Zoot decide to return to Earth and stay with Tim and Lizzie, while Neenert flies Martin's spacecraft back to Mars. Tim initially objects to Martin's staying, but Lizzie convinces Tim to change his mind.\n",
      "\n",
      "\n",
      "I'm Yours - 234\n",
      "Keywords: ['daphne', 'robert', 'marie', 'natalie', 'to']\n",
      "On the verge of his thirtieth birthday, Robert (Rossif Sutherland), a wealthy Wall Street broker, grieves his latest relationship gone awry and questions a loss of meaning and purpose to his career. Disenchanted with his life, he liquidates his assets and celebrates his newfound freedom that night in a Manhattan bar where he spots the mysterious, attractive Daphne (Karine Vanesse). Under the influence of alcohol and prodded on by his older mentor Phil (Don McKellar), Robert attempts to make a pass at Daphne only to be surprised by her responsiveness. The attraction between the two grows and soon they are off to a motel for a night of impassioned love-making infused with a hefty dose of drugs and alcohol.[3][4][5]\r\n",
      "Early the next morning, Daphne prepares to leave but hesitates when she discovers Robert’s tote bag filled with cash. She blackmails Robert into posing as her fiancé and travelling to North Bay to visit her parents. Later that morning, Robert awakens hungover in the passenger seat of his own car, to discover Daphne's ploy.[6] Robert reluctantly relents to playing along as they reach the border crossing. Soon the two are traversing the Canadian wilderness with Daphne at the wheel of Robert's hatchback.\r\n",
      "After a period of time, the car radiator breaks down, forcing Daphne to pull over on a deserted portion of the highway. The pair eventually wave down a passing car, whose driver agrees to take them as far as Pembroke. At a pitstop, Daphne phones home, telling her mother she is engaged to be married and arranges for her and Robert to have lunch with her parents the next day. Daphne reveals to Robert that her parents kicked her out of the house ten years ago and that she has not spoken to her father since.\r\n",
      "Their driver drops them off at a motel, where Daphne tries unsuccessfully to seduce Robert. Robert calls his mentor Phil, who claims he hired Daphne to hook up with Robert as a birthday present. The next morning Robert confronts Daphne who admits Phil had indeed hired her to sleep with Robert. On the bus to North Bay, Daphne apologizes to Robert, telling him she will return the money after they meet her parents. Daphne reveals her real name is Marie.\r\n",
      "Upon reaching the bus terminal, Daphne/Marie returns the valise of cash to Robert, who, afraid he has been duped by Daphne/Marie, abruptly announces he is heading back to New York City. Daphne/Marie goes alone to her parents’ house while Robert realizes Daphne/Marie had kept her promise and his money had been left untouched. Robert shows up late at the door and plays the part of Daphne’s fiancé.\r\n",
      "Later, Daphne/Marie reveals she has a daughter, Natalie, and she and Robert go to visit Natalie at Sunday school. Daphne/Marie encounters Natalie but leaves shortly thereafter to catch a bus back to Manhattan. At the bus terminal, Daphne/Marie and Robert prepare to buy their tickets when Daphne’s father walks in accompanied by her mother and Natalie. Her father reveals her mother asked him to come to the bus terminal after Natalie called them. Daphne/Marie reconciles with her father and Natalie urges her mother Daphne/Marie to stay. Daphne/Marie and Robert agree. The movie closes with a reunited Daphne/Marie, Natalie, and Robert standing outside the bus terminal, gazing at a flock of geese soaring across the sky. Daphne/Marie and Robert look deeply into each other's eyes and smile.\n",
      "\n",
      "\n"
     ]
    }
   ],
   "source": [
    "search_similar(23, indice_filmes)"
   ]
  },
  {
   "cell_type": "code",
   "execution_count": null,
   "metadata": {},
   "outputs": [],
   "source": []
  }
 ],
 "metadata": {
  "kernelspec": {
   "display_name": "Python 3 (ipykernel)",
   "language": "python",
   "name": "python3"
  },
  "language_info": {
   "codemirror_mode": {
    "name": "ipython",
    "version": 3
   },
   "file_extension": ".py",
   "mimetype": "text/x-python",
   "name": "python",
   "nbconvert_exporter": "python",
   "pygments_lexer": "ipython3",
   "version": "3.9.13"
  }
 },
 "nbformat": 4,
 "nbformat_minor": 2
}
