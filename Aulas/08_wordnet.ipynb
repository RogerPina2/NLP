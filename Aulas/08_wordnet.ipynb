{
 "cells": [
  {
   "cell_type": "code",
   "execution_count": 2,
   "metadata": {},
   "outputs": [
    {
     "name": "stderr",
     "output_type": "stream",
     "text": [
      "[nltk_data] Downloading package wordnet to\n",
      "[nltk_data]     C:\\Users\\roger\\AppData\\Roaming\\nltk_data...\n",
      "[nltk_data]   Package wordnet is already up-to-date!\n",
      "[nltk_data] Downloading package omw to\n",
      "[nltk_data]     C:\\Users\\roger\\AppData\\Roaming\\nltk_data...\n",
      "[nltk_data]   Package omw is already up-to-date!\n",
      "[nltk_data] Downloading package omw-1.4 to\n",
      "[nltk_data]     C:\\Users\\roger\\AppData\\Roaming\\nltk_data...\n",
      "[nltk_data]   Package omw-1.4 is already up-to-date!\n"
     ]
    },
    {
     "data": {
      "text/plain": [
       "True"
      ]
     },
     "execution_count": 2,
     "metadata": {},
     "output_type": "execute_result"
    }
   ],
   "source": [
    "from nltk.corpus import wordnet\n",
    "import nltk\n",
    "nltk.download('wordnet')\n",
    "nltk.download('omw')\n",
    "nltk.download('omw-1.4')"
   ]
  },
  {
   "cell_type": "markdown",
   "metadata": {},
   "source": [
    "# Aula 8: Ontologias e Wordnet\n",
    "**Objetivo da aula:** ao fim desta aula, o aluno será capaz de usar ontologias para avaliar palavras de acordo com seu conteúdo semântico.\n",
    "\n",
    "# Exercício 1\n",
    "*Objetivo: aplicar o conceito de busca por TF-IDF e analisar os resultados, evidenciando o problema de ambiguidades*\n",
    "\n",
    "Suponha que temos um sistema de busca por conteúdo que funciona usando TF-IDF e há três diferentes documentos:\n",
    "\n",
    "DOCUMENTO 1: “O arquiteto fez a planta da minha casa em janeiro”\n",
    "\n",
    "DOCUMENTO 2: “O decorador que escolheu essa planta que tenho em casa”\n",
    "\n",
    "DOCUMENTO 3: “Meu avô não compra verduras. Ele planta tudo em casa”\n",
    "\n",
    "1. Qual é o problema que teremos se fizermos a query: “planta em casa”?\n",
    "1. Se pudéssemos escrever a palavra “planta” de uma maneira diferente para cada significado (por exemplo, “planta_arquitetura”, “planta_vegetal” e “planta_verbo”), esse problema estaria resolvido? Como ficaria a query, nessse caso?\n"
   ]
  },
  {
   "cell_type": "markdown",
   "metadata": {},
   "source": [
    "# Exercício 2\n",
    "*Objetivo: explicar o que é um synset e o seu conteúdo*\n",
    "\n",
    "Um importante conceito para ligar palavras a significados é o *synset*. Execute o código abaixo e, de acordo com as saídas, encotnre uma definição para *synset*."
   ]
  },
  {
   "cell_type": "code",
   "execution_count": 3,
   "metadata": {},
   "outputs": [
    {
     "name": "stdout",
     "output_type": "stream",
     "text": [
      "[Synset('plant.n.01'), Synset('plant.n.02'), Synset('plant.n.03'), Synset('plant.n.04'), Synset('plant.v.01'), Synset('implant.v.01'), Synset('establish.v.02'), Synset('plant.v.04'), Synset('plant.v.05'), Synset('plant.v.06')]\n",
      "\n",
      "['plant.n.01', 'plant.n.02', 'plant.n.03', 'plant.n.04', 'plant.v.01', 'implant.v.01', 'establish.v.02', 'plant.v.04', 'plant.v.05', 'plant.v.06']\n",
      "\n",
      "['buildings for carrying on industrial labor', '(botany) a living organism lacking the power of locomotion', 'an actor situated in the audience whose acting is rehearsed but seems spontaneous to the audience', 'something planted secretly for discovery by another', 'put or set (seeds, seedlings, or plants) into the ground', 'fix or set securely or deeply', 'set up or lay the groundwork for', 'place into a river', 'place something or someone in a certain position in order to secretly observe or deceive', 'put firmly in the mind']\n"
     ]
    }
   ],
   "source": [
    "from nltk.corpus import wordnet\n",
    "synsets = wordnet.synsets('plant')\n",
    "print([syn for syn in synsets])\n",
    "print('')\n",
    "print([syn.name() for syn in synsets])\n",
    "print('')\n",
    "print([syn.definition() for syn in synsets])"
   ]
  },
  {
   "cell_type": "markdown",
   "metadata": {},
   "source": [
    "# Exercício 3\n",
    "*Objetivo: explorar synsets em outras palavras*\n",
    "\n",
    "Encontre synsets para a palavra “green”.\n",
    "\n",
    "1. Quantos sentidos diferentes essa palavra pode ter, de acordo com a Wordnet?\n",
    "    - <font color=red>14</font>\n",
    "\n",
    "\n",
    "2. Em cada um dos sentidos, como podemos saber qual é o part-of-speech correspondente?\n",
    "    - <font color=red>syn.pos() for syn in synsets</font>\n",
    "\n",
    "\n",
    "3. Quais são os possíveis part-of-speech que estão definidos na WordNet?\n",
    "    - <font color=red>DJ, ADJ_SAT, ADV, NOUN or VERB.</font>\n"
   ]
  },
  {
   "cell_type": "code",
   "execution_count": 4,
   "metadata": {},
   "outputs": [
    {
     "name": "stdout",
     "output_type": "stream",
     "text": [
      "[Synset('green.n.01'), Synset('park.n.02'), Synset('green.n.03'), Synset('green.n.04'), Synset('green.n.05'), Synset('green.n.06'), Synset('greens.n.01'), Synset('k.n.07'), Synset('green.v.01'), Synset('green.s.01'), Synset('green.a.02'), Synset('green.a.03'), Synset('green.s.04'), Synset('fleeceable.s.01')]\n",
      "\n",
      "['n', 'n', 'n', 'n', 'n', 'n', 'n', 'n', 'v', 's', 'a', 'a', 's', 's']\n",
      "\n",
      "['green color or pigment; resembling the color of growing grass', 'a piece of open land for recreational use in an urban area', 'United States labor leader who was president of the American Federation of Labor from 1924 to 1952 and who led the struggle with the Congress of Industrial Organizations (1873-1952)', 'an environmentalist who belongs to the Green Party', 'a river that rises in western Wyoming and flows southward through Utah to become a tributary of the Colorado River', 'an area of closely cropped grass surrounding the hole on a golf course', 'any of various leafy plants or their leaves and stems eaten as vegetables', 'street names for ketamine', 'turn or become green', 'of the color between blue and yellow in the color spectrum; similar to the color of fresh grass', 'concerned with or supporting or in conformity with the political principles of the Green Party', 'not fully developed or mature; not ripe', 'looking pale and unhealthy', 'naive and easily deceived or tricked']\n"
     ]
    }
   ],
   "source": [
    "# Resolva este exercício aqui\n",
    "synsets = wordnet.synsets('green')\n",
    "print([syn for syn in synsets])\n",
    "print('')\n",
    "print([syn.pos() for syn in synsets])\n",
    "print('')\n",
    "print([syn.definition() for syn in synsets])"
   ]
  },
  {
   "cell_type": "markdown",
   "metadata": {},
   "source": [
    "# Exercício 4\n",
    "*Objetivo: explicar como lemas se relacionam com synsets*\n",
    "\n",
    "Execute o código a seguir. O que significa a saída que é impressa na tela?"
   ]
  },
  {
   "cell_type": "code",
   "execution_count": 5,
   "metadata": {},
   "outputs": [
    {
     "name": "stdout",
     "output_type": "stream",
     "text": [
      "['plant', 'works', 'industrial_plant']\n"
     ]
    }
   ],
   "source": [
    "from nltk.corpus import wordnet\n",
    "synsets = wordnet.synsets('plant')\n",
    "print([lemma.name() for lemma in synsets[0].lemmas()])"
   ]
  },
  {
   "cell_type": "markdown",
   "metadata": {},
   "source": [
    "<font color=red> Lemma é uma palavra base ou raiz que representa uma classe de palavras. Em linguística, o processo de lematização envolve a redução de uma palavra à sua forma básica (lemma) ou de um verbo à sua forma infinitiva. Por exemplo, o lemma da palavra \"corridas\" é \"corrida\", o lemma do verbo \"correndo\" é \"correr\". A lematização é útil em processamento de linguagem natural para normalizar as palavras e reduzir sua complexidade, permitindo a análise de grandes volumes de texto de forma mais eficiente. </font>"
   ]
  },
  {
   "cell_type": "markdown",
   "metadata": {},
   "source": [
    "# Exercício 5\n",
    "*Objetivo: aplicar um algoritmo de desambiguação de significado*\n",
    "\n",
    "Analise e execute o código abaixo.\n",
    "\n",
    "1. Que tipo de dado a função “lesk” retorna (ou: de qual tipo/classe são as variáveis syns1 e syns2?)\n",
    "1. Analisando a saída que é impressa na tela, o que podemos dizer que a função “lesk” faz?\n",
    "1. Veja na [documentação da função lesk](https://www.nltk.org/howto/wsd.html) como ela funciona. Encontre algumas frases em que esse algoritmo não funciona."
   ]
  },
  {
   "cell_type": "code",
   "execution_count": 6,
   "metadata": {},
   "outputs": [
    {
     "name": "stdout",
     "output_type": "stream",
     "text": [
      "Synset('cold.a.02') extended meanings; especially of psychological coldness; without human warmth or emotion\n",
      "Synset('cold.a.01') having a low or inadequate temperature or feeling a sensation of coldness or having been made cold by e.g. ice or refrigeration\n"
     ]
    }
   ],
   "source": [
    "from nltk.wsd import lesk\n",
    "phrase1 = \"they were so cold - entirely without emotion\".split()\n",
    "syns1 = lesk(phrase1, 'cold')\n",
    "phrase2 = \"when I had time to eat, my meal was ice cold\".split()\n",
    "syns2 = lesk(phrase2, 'cold')\n",
    "print(syns1, syns1.definition())\n",
    "print(syns2, syns2.definition())"
   ]
  },
  {
   "cell_type": "markdown",
   "metadata": {},
   "source": [
    "# Exercício 6\n",
    "*Objetivo: analisar os limites dentro dos quais é possível fazer desambiguação de significado*\n",
    "\n",
    "1. Uma das aplicações da desambiguação de sentidos é diferenciar significados em palavras que têm polissemias ou homonímias. Por exemplo, é interessante diferenciar “mina de ouro” de “mina terrestre” porque a palavra “mina” significa coisas muito diferentes nesses casos. Encontre mais dois exemplos de palavras que podem ter significados muito diferentes.\n",
    "    - <font color=red>manga, banco</font>\n",
    "\n",
    "\n",
    "2. Por que o algoritmo de Lesk tende a falhar em muitas situações?\n",
    "3. Considere a passagem: “Navegar é preciso. Viver não é preciso.”. É possível desambiguar o significado da palavra “preciso” em cada uma das frases?\n",
    "4. É possível fazer um algoritmo que consiga desambiguar sentidos de palavras com 100% de acurácia?\n",
    "\n"
   ]
  },
  {
   "cell_type": "code",
   "execution_count": 7,
   "metadata": {},
   "outputs": [
    {
     "name": "stdout",
     "output_type": "stream",
     "text": [
      "excavation in the earth from which ores and minerals are extracted\n",
      "----\n",
      "explosive device that explodes on contact; designed to destroy vehicles or ships or to kill or maim personnel\n"
     ]
    }
   ],
   "source": [
    "syn = wordnet.synsets('mine')[0]\n",
    "print(syn.definition())\n",
    "print(\"----\")\n",
    "syn = wordnet.synsets('mine')[1]\n",
    "print(syn.definition())"
   ]
  },
  {
   "cell_type": "markdown",
   "metadata": {},
   "source": [
    "# Exercício 7\n",
    "*Objetivo: aplicar o conceito de busca por TF-IDF e analisar os resultados, evidenciando o problema de termos palavras com significados próximos*\n",
    "\n",
    "Suponha que temos um sistema de busca por conteúdo que funciona usando TF-IDF. Ele tem diversos documentos sobre como montar móveis, eletrodomésticos, etc., e temos o seguinte documento em nossa base:\n",
    "\n",
    "“Para montar seu computador, siga os seguintes passos: “(o documento continua com instruções claras para montar um computador).\n",
    "\n",
    "Nosso usuário buscou: “como montar meu PC”.\n",
    "\n",
    "O sistema vai encontrar o documento correto? Por que?"
   ]
  },
  {
   "cell_type": "markdown",
   "metadata": {},
   "source": [
    "Nao vai dar certo porque montar nao tem relevancia na maioria dos textos sobre PC, mas sim textos de computador (palavras que significam a mesma coisa)"
   ]
  },
  {
   "cell_type": "markdown",
   "metadata": {},
   "source": [
    "# Exercício 8\n",
    "*Objetivo: organizar conceitos em uma ontologia baseada em abstrações*\n",
    "\n",
    "1. Organize as seguintes palavras em uma árvore hierarquicamente definida pelo nível de abstração (por exemplo: \"material escolar\" é mais abstrato que \"caderno\", embora possam se referir ao mesmo conceito): Organismo | Planta | Animal | Gato | Cachorro | Rosa | Coqueiro | Humano | Poodle | Vira_lata_Caramelo | Bulldog | Alecrim\n",
    "    - <font color=red>Organismo</font>\n",
    "    - <font color=red>Planta, Animal</font>\n",
    "    - <font color=red>Gato, Cachorro, Humano, Rosa, Coqueiro</font>\n",
    "    - <font color=red>Poodle, Vira_lata_Caramelo, Bulldog, Alecrim</font>\n",
    "    \n",
    "    \n",
    "2. Considerando sua árvore, que palavras melhor substituiriam a palavra “Poodle” na frase: “Meu poodle gosta de brincar”? Por que? Seriam essas as únicas palavras que garantiriam que a frase está sintaticamente correta?\n",
    "    - <font color=red>Vira_lata_Caramelo, Bulldog, Alecrim</font>\n",
    "    - <font color=red>Gato, Cachorro, Humano, Rosa, Coqueiro</font>\n",
    "\n",
    "\n",
    "3. Um **hiperônimo** é uma palavra cujo sentido é imediatamente mais “genérico” que outra. Partindo de sua árvore, qual é o hiperônimo de “humano”?\n",
    "    - <font color=red>organismo</font>\n",
    "\n",
    "\n",
    "4. Um **hipônimo** é uma palavra cujo sentido é imediatamente mais “específico” que outra. Partindo de sua árvore, quais são os hipônimos de “animal”?\n",
    "    - <font color=red>cachorro, gato e humano</font>\n",
    "\n",
    "\n",
    "5. Usando sua árvore, defina: um “vira_lata_caramelo” é mais semelhante a um “poodle” ou a um “coqueiro”? Por que?\n",
    "    - <font color=red>Mais semelhante a um poodle, pois ambos são raças de cachorro, enquanto coqueiro é uma espécie de planta</font>"
   ]
  },
  {
   "cell_type": "markdown",
   "metadata": {},
   "source": [
    "# Exercício 9\n",
    "*Objetivo: usar a wordnet para encontrar hiperônimos e hipônimos de palavras*\n",
    "\n",
    "Analise o trecho de código abaixo.\n",
    "\n",
    "1. O que ele faz?\n",
    "1. O hiperônimo que você encontrou para poodle é o mesmo que você propôs no exercício anterior?\n",
    "1. Troque a palavra “poodle” por “bulldog”. Houve diferenças nos resultados? Por que?\n",
    "1. Modifique o código para encontra os hiperônimos de um dos hiperônimos da palavra bulldog.\n",
    "1. Encontre hiperônimos e hipônimos de outras palavras. Você consegue encontrar algum caso de que discorde?"
   ]
  },
  {
   "cell_type": "code",
   "execution_count": 8,
   "metadata": {},
   "outputs": [
    {
     "name": "stdout",
     "output_type": "stream",
     "text": [
      "a sturdy thickset short-haired breed with a large head and strong undershot lower jaw; developed originally in England for bull baiting\n",
      "\n",
      "Synset abstract term :   [Synset('working_dog.n.01')]\n",
      "\n",
      "Synset specific term :   [Synset('french_bulldog.n.01')]\n",
      "\n",
      "Synset root hypernerm :   [Synset('entity.n.01')]\n",
      "\n",
      "-----------\n",
      "\n",
      "Synset abstract term :   [Synset('dog.n.01')]\n",
      "\n",
      "Synset specific term :   [Synset('boxer.n.04'), Synset('bull_mastiff.n.01'), Synset('bulldog.n.01'), Synset('eskimo_dog.n.01'), Synset('great_dane.n.01'), Synset('guide_dog.n.01'), Synset('hearing_dog.n.01'), Synset('mastiff.n.01'), Synset('police_dog.n.01'), Synset('saint_bernard.n.01'), Synset('seizure-alert_dog.n.01'), Synset('sennenhunde.n.01'), Synset('shepherd_dog.n.01'), Synset('sled_dog.n.01'), Synset('watchdog.n.02')]\n"
     ]
    }
   ],
   "source": [
    "syn = wordnet.synsets('bulldog')[0]\n",
    "syn2 = wordnet.synsets('working_dog')[0]\n",
    "print(syn.definition())\n",
    "\n",
    "print (\"\\nSynset abstract term :  \", syn.hypernyms())\n",
    "print (\"\\nSynset specific term :  \", syn.hyponyms())\n",
    "  \n",
    "syn.root_hypernyms()\n",
    "  \n",
    "print (\"\\nSynset root hypernerm :  \", syn.root_hypernyms())\n",
    "\n",
    "print('\\n-----------')\n",
    "\n",
    "print (\"\\nSynset abstract term :  \", syn2.hypernyms())\n",
    "print (\"\\nSynset specific term :  \", syn2.hyponyms())"
   ]
  },
  {
   "cell_type": "markdown",
   "metadata": {},
   "source": [
    "# Exercício 10\n",
    "*Objetivo: usar a wordnet para encontrar raízes comuns entre synsets*\n",
    "\n",
    "Analise e execute o código abaixo.\n",
    "\n",
    "1. O que ele imprime na tela? Por que?\n",
    "1. O que é “menor hiperônimo comum”?\n",
    "1. Qual é o “menor hiperônimo comum” entre “poodle” e “palm_tree”?\n",
    "1. Encontre o \"menor hiperônimo comum\" para palavras que participam de domínios cada vez mais distantes. Quais synsets são mais próximos da raiz da ontologia Wordnet?"
   ]
  },
  {
   "cell_type": "code",
   "execution_count": 9,
   "metadata": {},
   "outputs": [
    {
     "name": "stdout",
     "output_type": "stream",
     "text": [
      "Synset('physical_entity.n.01') an entity that has physical existence\n"
     ]
    }
   ],
   "source": [
    "syns1 = wordnet.synsets(\"cup\")[0]\n",
    "syns2 = wordnet.synsets(\"fur\")[0]\n",
    "hyper = syns1.lowest_common_hypernyms(syns2)[0]\n",
    "print(hyper, hyper.definition())"
   ]
  },
  {
   "cell_type": "markdown",
   "metadata": {},
   "source": [
    "# Exercício 11\n",
    "*Objetivo: usar a wordnet para encontrar a distância semântica entre synsets*\n",
    "\n",
    "Leia e execute o código abaixo.\n",
    "\n",
    "1. O que ele imprime na tela?\n",
    "1. Consulte a documentação do nltk. O que é “path similarity” e o que é “wup similarity”?\n",
    "1. De acordo com a wordnet, um poodle é mais semelhante a um bulldog ou a uma palmeira (“palm_tree”)?\n",
    "\n"
   ]
  },
  {
   "cell_type": "code",
   "execution_count": 15,
   "metadata": {},
   "outputs": [
    {
     "data": {
      "text/plain": [
       "[Synset('poodle.n.01')]"
      ]
     },
     "execution_count": 15,
     "metadata": {},
     "output_type": "execute_result"
    }
   ],
   "source": [
    "syns1 = wordnet.synsets(\"poodle\")\n",
    "syns1"
   ]
  },
  {
   "cell_type": "code",
   "execution_count": 13,
   "metadata": {},
   "outputs": [
    {
     "name": "stdout",
     "output_type": "stream",
     "text": [
      "1.0\n",
      "0.8666666666666667\n",
      "\n",
      "\n",
      "0.1\n",
      "0.5714285714285714\n"
     ]
    }
   ],
   "source": [
    "syns1 = wordnet.synsets(\"poodle\")[0]\n",
    "syns2 = wordnet.synsets(\"poodle\")[0]\n",
    "syns3 = wordnet.synsets(\"palm_tree\")[0]\n",
    "print(syns1.path_similarity(syns2))\n",
    "print(syns1.wup_similarity(syns2))\n",
    "\n",
    "print('\\n')\n",
    "\n",
    "print(syns1.path_similarity(syns3))\n",
    "print(syns1.wup_similarity(syns3))"
   ]
  },
  {
   "cell_type": "markdown",
   "metadata": {},
   "source": [
    "# Exercício 12\n",
    "*Objetivo: entender como usar a tradução da Wordnet para português*\n",
    "\n",
    "O trecho de código abaixo tem uma demonstração de como usar a wordnet em português.\n",
    "\n",
    "1. Quais partes da Wordnet estão traduzidas? Quais partes não estão traduzidas?\n",
    "1. Você consegue encontrar problemas de tradução?\n",
    "1. Veja na documentação da [Open Wordnet PT](https://github.com/own-pt/openWordnet-PT): como a wordnet em português foi construída?\n"
   ]
  },
  {
   "cell_type": "code",
   "execution_count": 10,
   "metadata": {},
   "outputs": [
    {
     "name": "stdout",
     "output_type": "stream",
     "text": [
      "Synonyms:  ['capacidade', 'faculdade', 'habilidade', 'talento']\n",
      "Definition: possession of the qualities (especially mental qualities) required to do something or get something done\n",
      "Hyponyms:  ['aptitude', 'bilingualism', 'capacity', 'creativity', 'faculty', 'hand', 'intelligence', 'know-how', 'leadership', 'originality', 'skill', 'skill', 'superior_skill']\n",
      "Hypernyms:  ['cognition']\n",
      "\n",
      "Synonyms:  ['faculdade', 'talento']\n",
      "Definition: one of the inherent cognitive or perceptual powers of the mind\n",
      "Hyponyms:  ['attention', 'language', 'memory', 'reason', 'sense', 'volition']\n",
      "Hypernyms:  ['ability']\n",
      "\n",
      "Synonyms:  ['IES', 'escola', 'faculdade', 'instituição_de_ensino_superior', 'instituto', 'universidade']\n",
      "Definition: the body of faculty and students of a college\n",
      "Hyponyms:  []\n",
      "Hypernyms:  ['body']\n",
      "\n",
      "Synonyms:  ['Faculdade', 'escola', 'instituto', 'universidade']\n",
      "Definition: an institution of higher education created to educate and grant degrees; often a part of a university\n",
      "Hyponyms:  ['business_college', 'junior_college', 'training_college']\n",
      "Hypernyms:  ['educational_institution']\n",
      "\n",
      "Synonyms:  ['Universidades', 'faculdade', 'faculdades_e_escolas_superiores_por_tipo']\n",
      "Definition: the body of teachers and administrators at a school\n",
      "Hyponyms:  []\n",
      "Hypernyms:  ['body']\n",
      "\n"
     ]
    }
   ],
   "source": [
    "word = 'faculdade'\n",
    "syn = wordnet.synsets(word, lang='por')\n",
    "for s in syn:\n",
    "    print (\"Synonyms: \", [l.name() for l in s.lemmas(lang='por')])\n",
    "    print (\"Definition:\", s.definition())\n",
    "    print (\"Hyponyms: \", [l.lemmas()[0].name() for l in s.hyponyms()])\n",
    "    print (\"Hypernyms: \", [l.lemmas()[0].name() for l in s.hypernyms()]) \n",
    "    print(\"\")  "
   ]
  },
  {
   "cell_type": "markdown",
   "metadata": {},
   "source": [
    "# Exercício 13\n",
    "*Objetivo: usar uma ontologia para encontrar a semelhança semântica entre frases*\n",
    "\n",
    "Neste exercício, trabalharemos com o problema de tentar agrupar frases de acordo com sua semelhança semântica.\n",
    "\n",
    "Considere as frases abaixo (todas foram retiradas de músicas dos Beatles):\n",
    "\n",
    "* How could I dance with another when I saw her standing there?\n",
    "* Oh, darling, please believe me, I will never leave you alone\n",
    "* I want to be under the sea in an octopus' garden in the shade\n",
    "* In the town where I was born lived a man who sailed to sea\n",
    "* I want to hold your hand\n",
    "* What would you think if I sang out of tune? Would you stand up and walk out on me?\n",
    "* I look at the world and I notice it's turning while my guitar gently weeps\n",
    "* Eleanor Rigby picks up the rice in the church where a wedding has been\n",
    "\n",
    "Podemos encontrar algumas músicas que são sobre amor, outras que são sobre fazer música, e algumas que são sobre situações ficcionais. Porém, as palavras \"love\", \"music\" e \"fiction\" não aparecem em nenhuma das frases. Também, há pouca coincidência entre as palavras que são usadas nas frases, então uma técnica como TFIDF pode ser inadequada para encontrar os significados das frases.\n",
    "\n",
    "1. Como poderíamos usar a Wordnet para ajudar a resolver o problema de agrupamento, neste caso? \n",
    "1. Implemente sua proposta de solução e a avalie. Ela funciona?\n",
    "1. Você acredita que é necessário fazer uma ontologia específica para seu problema, ou a ontologia fornecida pela wordnet já é semelhante?\n",
    "\n",
    "\n"
   ]
  },
  {
   "cell_type": "code",
   "execution_count": 11,
   "metadata": {},
   "outputs": [
    {
     "name": "stdout",
     "output_type": "stream",
     "text": [
      "0.3125\n"
     ]
    }
   ],
   "source": [
    "import numpy as np\n",
    "frase= 'I want to hold your hand'.lower().replace(\"?\", '').split()\n",
    "palavra = \"love\"\n",
    "syn = wordnet.synsets(palavra)[0]\n",
    "\n",
    "acc = []\n",
    "for w in frase:\n",
    "    syn_target = wordnet.synsets(w)\n",
    "    if len(syn_target)>0:\n",
    "        syn_target = syn_target[0]\n",
    "        acc.append(syn.wup_similarity(syn_target))\n",
    "print(np.mean(acc))"
   ]
  },
  {
   "cell_type": "code",
   "execution_count": null,
   "metadata": {},
   "outputs": [],
   "source": []
  }
 ],
 "metadata": {
  "interpreter": {
   "hash": "b3ba2566441a7c06988d0923437866b63cedc61552a5af99d1f4fb67d367b25f"
  },
  "kernelspec": {
   "display_name": "Python 3 (ipykernel)",
   "language": "python",
   "name": "python3"
  },
  "language_info": {
   "codemirror_mode": {
    "name": "ipython",
    "version": 3
   },
   "file_extension": ".py",
   "mimetype": "text/x-python",
   "name": "python",
   "nbconvert_exporter": "python",
   "pygments_lexer": "ipython3",
   "version": "3.9.13"
  }
 },
 "nbformat": 4,
 "nbformat_minor": 2
}
